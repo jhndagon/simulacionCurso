{
 "cells": [
  {
   "cell_type": "markdown",
   "metadata": {},
   "source": [
    "# Introducción al aprendizaje de máquina"
   ]
  },
  {
   "cell_type": "markdown",
   "metadata": {},
   "source": [
    "### Julián D. Arias Londoño\n",
    "\n",
    "Profesor Asociado  \n",
    "Departamento de Ingeniería de Sistemas  \n",
    "Universidad de Antioquia, Medellín, Colombia  \n",
    "julian.ariasl@udea.edu.co"
   ]
  },
  {
   "cell_type": "code",
   "execution_count": 6,
   "metadata": {},
   "outputs": [],
   "source": [
    "## Bibliotecas\n",
    "# Sirve para mostrar las graficas generadas por matplotlib inmediatemente despues de que sea llamada.\n",
    "%matplotlib inline\n",
    "from IPython.display import Image\n",
    "\n",
    "#Numpy es una biblioteca que nos permite muy buen soporte a las operaciones entre matrices y vectores\n",
    "import numpy as np\n",
    "\n",
    "# Biblioteca usada para diseñar y mostrar graficos.\n",
    "import matplotlib.pyplot as plt \n",
    "import seaborn as sns\n",
    "#sns.set(color_codes=True)\n",
    "\n",
    "# Biblioteca con algoritmos de Machine Learning ya implementados\n",
    "from sklearn import datasets  # Se importa el modulo de bases de datos de sklearn \n",
    "\n",
    "#Algunas advertencias que queremos evitar\n",
    "import warnings\n",
    "warnings.filterwarnings(\"always\")"
   ]
  },
  {
   "cell_type": "markdown",
   "metadata": {},
   "source": [
    "### Definicion"
   ]
  },
  {
   "cell_type": "markdown",
   "metadata": {},
   "source": [
    "El aprendizaje de máquina  (En inglés: Machine Learning (ML)) es una rama de la inteligencia artifical enfocada al estudio de sistemas que pueden \"aprender\"\" a partir de datos. De acuerdo con [1], ML son un conjunto de métodos que pueden detectar automáticamente patrones en un conjunto de datos, aprenderlos y luego usarlos para predicir datos futuros o realizar otro tipo de decisiones bajo incertidumbre."
   ]
  },
  {
   "cell_type": "markdown",
   "metadata": {},
   "source": [
    "Ejemplos de aplicaciones de ML:\n",
    "<ul>\n",
    "<li>Reconocimiento de Caracteres escritos a mano </li>\n",
    "</ul>"
   ]
  },
  {
   "cell_type": "markdown",
   "metadata": {},
   "source": [
    "![alt text](./Images/HR.png \"Reconocimiento de Caracteres escritos a mano\")"
   ]
  },
  {
   "cell_type": "markdown",
   "metadata": {},
   "source": [
    "<li>Reconocimiento de Rostros</li>"
   ]
  },
  {
   "cell_type": "markdown",
   "metadata": {},
   "source": [
    "![alt text](./Images/facebook-photo.jpeg \"Reconocimiento de Rostros\")"
   ]
  },
  {
   "cell_type": "markdown",
   "metadata": {},
   "source": [
    "<li>Biometría</li>"
   ]
  },
  {
   "cell_type": "markdown",
   "metadata": {},
   "source": [
    "![alt text](./Images/iphone-fingerprint.jpeg  \"Biometría\")"
   ]
  },
  {
   "cell_type": "markdown",
   "metadata": {},
   "source": [
    "Otros ejemplos son:\n",
    "\n",
    "1. Reconocimiento de cáracteres Ópticos\n",
    "2. Reconocimiento de Tatuajes\n",
    "3. Filtración de Spam\n",
    "3. Reconocimiento de Voz\n",
    "4. Sistemas de Recomendación\n",
    "5. Pronóstico de Variables Económicas\n",
    "6. Diversos Sistemas de Ayuda a la Toma de Decisiones"
   ]
  },
  {
   "cell_type": "markdown",
   "metadata": {},
   "source": [
    "Campos relacionados al ML:\n",
    "\n",
    "* Data Mining\n",
    "* Information Retrieval\n",
    "* Knowledge Discovery\n",
    "* Pattern Recognition\n",
    "* Probabilistic Methods\n",
    "* Natural Computing\n",
    "* Soft Computing\n",
    "* Multivariate Statistics\n",
    "* Optimization and Operation Research\n",
    "* Intelligent Agents and Intelligent Systems\n",
    "* Parallel Computing"
   ]
  },
  {
   "cell_type": "markdown",
   "metadata": {},
   "source": [
    "### Tipos de Aprendizaje de Máquina"
   ]
  },
  {
   "cell_type": "markdown",
   "metadata": {},
   "source": [
    "#### Aprendizaje predictivo o supervisado (Supervised Learning)"
   ]
  },
  {
   "cell_type": "markdown",
   "metadata": {},
   "source": [
    "En el cual el objetivo es aprender un mapeo a partir de entradas $\\bf{x}$ a salidas $y$, dado un conjunto de pares entrada-salida etiquetados $\\mathcal{D} = \\left\\lbrace  \\left( {\\bf{x}}_i, y_i \\right) \\right\\rbrace _{i=1} ^{N}$. En este caso $\\mathcal{D}$ se conoce como el <b>conjunto de entrenamiento</b> y $N$ es el número de muestras de entrenamiento."
   ]
  },
  {
   "cell_type": "markdown",
   "metadata": {},
   "source": [
    "En una forma simple, cada muestra de entrenamiento ${\\bf{x}}_i$ es un vector de números $d$-dimensional que representa variables o medidas del sistema o fenómeno que se desea modelar y que en el contexto del aprendizaje de máquinas es común llamarlas <b>características</b> (en inglés <b>features</b>)."
   ]
  },
  {
   "cell_type": "markdown",
   "metadata": {},
   "source": [
    "![alt text](./Images/Supervised.png  \"Supervised\")"
   ]
  },
  {
   "cell_type": "markdown",
   "metadata": {},
   "source": [
    "#### Descriptivo o no supervisado (Unsupervised Learning)"
   ]
  },
  {
   "cell_type": "markdown",
   "metadata": {},
   "source": [
    "En este caso unicamente se cuenta con un conjunto $\\mathcal{D} = \\left\\lbrace  \\left( {\\bf{x}}_i \\right) \\right\\rbrace _{i=1} ^{N}$; y el objetivo es encontrar \"patrones interesantes\" en los datos. Algunas veces se le llama <b>Descubrimiento de conocimiento</b>"
   ]
  },
  {
   "cell_type": "markdown",
   "metadata": {},
   "source": [
    "![alt text](./Images/Unsupervised.png  \"Unsupervised\")"
   ]
  },
  {
   "cell_type": "markdown",
   "metadata": {},
   "source": [
    "----------------------------------------------------------------------------------------------------------------------------------------------"
   ]
  },
  {
   "cell_type": "markdown",
   "metadata": {},
   "source": [
    "#### Tipos de problemas supervisados"
   ]
  },
  {
   "cell_type": "markdown",
   "metadata": {},
   "source": [
    "En general ${\\bf{x}}_i$ puede representar un objeto complejo, como una imagen, una frase, un mensaje de correo electrónico, un cliente, una serie de tiempo, una cadena de ADN, una molécula, un grafo, etc. En el aprendizaje supervisado, si la variable de salida $y_i$ toma valores discretos (es categórica), el problema de aprendizaje se conoce como <b>Clasificación</b>. Si por el contrario $y_i$ toma valores reales, el problema se conoce como <b>Regresión</b>."
   ]
  },
  {
   "cell_type": "code",
   "execution_count": 7,
   "metadata": {},
   "outputs": [
    {
     "data": {
      "image/png": "[encoded data removed]",
      "text/plain": [
       "<Figure size 432x288 with 1 Axes>"
      ]
     },
     "metadata": {
      "needs_background": "light"
     },
     "output_type": "display_data"
    }
   ],
   "source": [
    "from sklearn import datasets\n",
    "iris = datasets.load_iris()\n",
    "X, y = iris.data, iris.target\n",
    "import matplotlib.pyplot as plt\n",
    "plt.title('Problema de 3 clases', fontsize=14)\n",
    "plt.xlabel('Caracteristica 1')\n",
    "plt.ylabel('Caracteristica 2')\n",
    "plt.scatter(X[:,1], X[:,2],c=y,cmap=\"Accent\")\n",
    "plt.show()"
   ]
  },
  {
   "cell_type": "code",
   "execution_count": 8,
   "metadata": {},
   "outputs": [
    {
     "data": {
      "image/png": "[encoded data removed]",
      "text/plain": [
       "<Figure size 432x288 with 1 Axes>"
      ]
     },
     "metadata": {
      "needs_background": "light"
     },
     "output_type": "display_data"
    }
   ],
   "source": [
    "a = np.array([1, 2, 3])\n",
    "x = np.linspace(0,10,100);\n",
    "y1 = np.zeros(100)\n",
    "y2 = np.zeros(100)\n",
    "for i in range(len(x)):\n",
    "    b = np.array([x[i],x[i]**2,1])\n",
    "    y1[i] = sum(a*b +  30*(np.random.rand() - 0.5))\n",
    "    y2[i] = sum(a*b)\n",
    "plt.title(u'Problema de regresión', fontsize=14)\n",
    "plt.xlabel(u'Característica 1')\n",
    "plt.ylabel(u'Variable a predecir')\n",
    "plt.scatter(x, y1)\n",
    "plt.plot(x,y2,'r')\n",
    "plt.show()"
   ]
  },
  {
   "cell_type": "markdown",
   "metadata": {},
   "source": [
    "### Sistemas de reconocimiento de patrones"
   ]
  },
  {
   "cell_type": "markdown",
   "metadata": {},
   "source": [
    "![alt text](./Images/Diagram.png  \"Supervised\")"
   ]
  },
  {
   "cell_type": "markdown",
   "metadata": {},
   "source": [
    "#### Retos (Challenges) que deben ser enfrentados dentro del aprendizaje de máquina"
   ]
  },
  {
   "cell_type": "markdown",
   "metadata": {},
   "source": [
    "Cuando nos enfrentamos a un problema de aprendizaje vamos a encontrarnos con una serie de situaciones que harán la tarea un problema no trivial."
   ]
  },
  {
   "cell_type": "markdown",
   "metadata": {},
   "source": [
    "<b>Clasificación</b>\n",
    "<li>Las clases son colecciones de objetos no necesariamente idénticos, entonces cada clase queda definida por las muestras con las que se cuente para entrenar el sistema (<b>Data-driven model</b>)</li>"
   ]
  },
  {
   "cell_type": "markdown",
   "metadata": {},
   "source": [
    "![alt text](./Images/ICVariability.png  \"ICVariability\")"
   ]
  },
  {
   "cell_type": "markdown",
   "metadata": {},
   "source": [
    "![alt text](./Images/ICSimilarity.png  \"ICSimilarity\")"
   ]
  },
  {
   "cell_type": "markdown",
   "metadata": {},
   "source": [
    "#### Diseño de la etapa de aprendizaje"
   ]
  },
  {
   "cell_type": "markdown",
   "metadata": {},
   "source": [
    "Cuando nos enfrentamos al problema de aprendizaje de máquina debemos responder a tres preguntas fundamentales:\n",
    "<li>Cuál es el <b>modelo</b> que vamos a usar teniendo en cuenta el problema a resolver, es decir la estructura que tiene el conjunto de datos. Es importante tener en cuenta que todo modelo tiene parámetros que se deben ajustar para que pueda adaptarse (aprender), el problema particular que deseamos abordar</li>\n",
    "<li>Cuál es el <b>criterio</b> de ajuste del modelo que vamos a usar. Es decir, determinar qué es lo que queremos que haga el modelo con respecto al conjunto de muestras de entrenamiento y expresarlo a través de una función matemática.</li>\n",
    "<li>Cuál es y cómo funciona el <b>algoritmo</b> que encuentra los parámetros del modelo de acuerdo al criterio escogido. En la mayoría de los casos la ejecución del criterio de entrenamiento implica un procedimiento de maximización (o minimización) de la función criterio. Por consiguiente en esta etapa necesitamos aplicar un algoritmo que pueda solucionar el problema de optimización.</li>\n",
    "<li>Como todo procedimiento de modelado, el aprendizaje de máquina debe pasar por etapas de verificación y validación que permitan establecer el correcto funcionamiento del modelo propuesto y cuantificar su desempeño en términos objetivos.</li>"
   ]
  },
  {
   "cell_type": "markdown",
   "metadata": {},
   "source": [
    "----------------------------------------------------------------------------------------------------------------------------------------------"
   ]
  },
  {
   "cell_type": "markdown",
   "metadata": {},
   "source": [
    "## Modelos básicos de aprendizaje"
   ]
  },
  {
   "cell_type": "markdown",
   "metadata": {},
   "source": [
    "Vamos a centrarnos por un momento en el problema de regresión. Es casi seguro que para diferentes problemas hayan tenido que utilizar una regresión lineal, polinomial y/o múltiple, con el propósito de encontrar una función que pudiera explicar el comportamiento de un conjunto de datos. Supongamos que queremos modelar un conjunto de datos empleando una función polinomial de la forma:\n"
   ]
  },
  {
   "cell_type": "markdown",
   "metadata": {},
   "source": [
    "$$\n",
    "f({\\bf{x}},{\\bf{w}} ) = w_0 + w_1 x +  w_2 x^2 + \\cdots + w_Mx^M = \\sum_{j=0}^{M} w_j x^j\n",
    "$$"
   ]
  },
  {
   "cell_type": "markdown",
   "metadata": {},
   "source": [
    "donde $M$ es el orden del polinomio. ¿Cómo se ajusta ${\\bf{w}}$?"
   ]
  },
  {
   "cell_type": "markdown",
   "metadata": {},
   "source": [
    "En este caso particular, la función polinomial que hemos escogido corresponde al <mark>modelo</mark> que vamos a usar. Necesitamos entonces definir el criterio por el cual vamos a ajustar los parámetros del modelo, en particular los pesos $w_j$ (El valor de $M$ también requiere ser ajustado, sin embargo si cambiamos $M$ se está cambiando el órden del polinomio y por lo tanto el modelo en sí mismo. Más adelante veremos cómo enfrentar el problema de seleccionar el modelo más adecuado, por ahora supondremos que el valor de $M$ está dado de manera a prior). "
   ]
  },
  {
   "cell_type": "markdown",
   "metadata": {},
   "source": [
    "<mark>El criterio:</mark>\n",
    "La función de error más usada es (<b>para un mismo modelo podemos tener diferentes criterios de ajuste</b>):\n",
    "$$\n",
    "E({\\bf{w}}) = \\frac{1}{2N}\\sum_{i=1}^{N} \\left\\lbrace f({\\bf{x}}_i, {\\bf{w}}) - y_i \\right\\rbrace^2 \n",
    "$$\n",
    "Con esta función de error podemos hallar una $f$ para la cual, la distancia perpendicular de los puntos $x_i$ a $f$ sea mínima."
   ]
  },
  {
   "cell_type": "markdown",
   "metadata": {},
   "source": [
    "![alt text](./Images/Regression.png  \"Regression\")"
   ]
  },
  {
   "cell_type": "markdown",
   "metadata": {},
   "source": [
    "Si queremos hayar un $\\bf{w}$ que minimice el error, entonces derivamos la función de error con respecto a cada uno de los parámetros $w_j$:"
   ]
  },
  {
   "cell_type": "markdown",
   "metadata": {},
   "source": [
    "$$\n",
    "\\frac{\\partial E({\\bf{w}})}{\\partial w_j} = \\frac{1}{N}\\sum_{i=1}^{N}\\frac{\\partial }{\\partial w_j}\\left( f({\\bf{x}}_i,{\\bf{w}}) - y_i\\right)^2\\\\\n",
    "$$"
   ]
  },
  {
   "cell_type": "markdown",
   "metadata": {},
   "source": [
    "Para efectos de cálculo podemos asumir que el vector $x_i$ contiene todas las características de la muestra $i$ y una característica adicional con valor de 1, que multiplicará al término independiente $w_0$."
   ]
  },
  {
   "cell_type": "markdown",
   "metadata": {},
   "source": [
    "$$\n",
    "\\frac{\\partial E({\\bf{w}})}{\\partial w_j} = \\frac{1}{N}\\sum_{i=1}^{N}\\left( f({\\bf{x}}_i,{\\bf{w}}) - y_i\\right) \\frac{\\partial }{\\partial w_j} f({\\bf{x}}_i, {\\bf{w}})\n",
    "$$\n"
   ]
  },
  {
   "cell_type": "markdown",
   "metadata": {},
   "source": [
    "$$\n",
    "\\frac{\\partial E({\\bf{w}})}{\\partial w_j} = \\frac{1}{N}\\sum_{i=1}^{N}\\left( f({\\bf{x}}_i,{\\bf{w}}) - y_i\\right)x_{ij}\n",
    "$$"
   ]
  },
  {
   "cell_type": "markdown",
   "metadata": {},
   "source": [
    "Un algoritmo simple que nos permite solucionar el problema de optimización es el <mark>Algoritmo de Gradiente Descendente</mark>. Un problema de optimización puede tener múltiples formas o algoritmos para resolverse, cuando el problema de optimización es <b>convexo</b> podemos esperar que casi con cualquier método encontremos el valor del parámetro que hace la función óptima, sin embargo, es posible que el problema de optimización no sea convexo, en cuyo caso el algoritmo o método de optimización juega un rol más importante. También es importante tener en cuenta la velocidad de convergencia del algoritmo o método de optimización, el costo computacional y el número de parámetros libres."
   ]
  },
  {
   "cell_type": "markdown",
   "metadata": {},
   "source": [
    "El algoritmo de gradiente descendente es un algoritmo iterativo que va actualizando los pesos $w_j$ en la medida en que estos van haciendo la función objetivo mínima. La regla de actualización de los pesos en cada iteración está dada por:"
   ]
  },
  {
   "cell_type": "markdown",
   "metadata": {},
   "source": [
    "$$\n",
    "w_j(iter) = w_j(iter-1) - \\eta \\frac{\\partial E({\\bf{w}})}{\\partial w_j}\n",
    "$$\n"
   ]
  },
  {
   "cell_type": "markdown",
   "metadata": {},
   "source": [
    "$$\n",
    "w_j(iter) = w_j(iter-1) - \\eta \\sum_{i=1}^{N}\\left( f({\\bf{x}}_i,{\\bf{w}}) - y_i\\right)x_{ij}\n",
    "$$\n"
   ]
  },
  {
   "cell_type": "markdown",
   "metadata": {},
   "source": [
    "$$\n",
    "w_j(iter) = w_j(iter-1) - \\eta \\sum_{i=1}^{N}\\left( \\sum_{k=0}^{d} w_k x_{ik} - y_i\\right)x_{ij} \n",
    "$$"
   ]
  },
  {
   "cell_type": "markdown",
   "metadata": {},
   "source": [
    "donde $\\eta$ se conoce como la tasa de aprendizaje y $d$ es el número de variables, independiente de si son polinomiales o no. Para entender un poco qué hace el algoritmo, consideremos la siguiente <em>Función Convexa</em>"
   ]
  },
  {
   "cell_type": "code",
   "execution_count": 9,
   "metadata": {},
   "outputs": [
    {
     "data": {
      "text/plain": [
       "[<matplotlib.lines.Line2D at 0x7fdd58f56d30>]"
      ]
     },
     "execution_count": 9,
     "metadata": {},
     "output_type": "execute_result"
    },
    {
     "data": {
      "image/png": "[encoded data removed]",
      "text/plain": [
       "<Figure size 432x288 with 1 Axes>"
      ]
     },
     "metadata": {
      "needs_background": "light"
     },
     "output_type": "display_data"
    }
   ],
   "source": [
    "x = np.linspace(-10,10,100);\n",
    "y = x ** 2;\n",
    "plt.plot(x,y)"
   ]
  },
  {
   "cell_type": "markdown",
   "metadata": {},
   "source": [
    "Existen múltiples librerías para diferentes lenguajes que tienen implementados algoritmos de regresión, sin embargo con el objetivo de comprender el problema de aprendizaje en su conjunto, vamos a hacer una implementación simple del problema de regresión múltiple.  Como vamos a ir viendo a lo largo del curso es importante tener claros varios conceptos de cálculo, probabilidades y algebra lineal, que pueden no ser trasendentales si sólo nos limitamos a usar modelos y algoritmos existentes en diferentes librerías, pero que serán vitales a la hora de enfrentarnos a problemas en los cuales los modelos existentes no satisfacen todas las restricciones de un problema en particular."
   ]
  },
  {
   "cell_type": "code",
   "execution_count": 10,
   "metadata": {},
   "outputs": [
    {
     "data": {
      "image/png": "[encoded data removed]",
      "text/plain": [
       "<Figure size 1008x432 with 3 Axes>"
      ]
     },
     "metadata": {
      "needs_background": "light"
     },
     "output_type": "display_data"
    }
   ],
   "source": [
    "from mpl_toolkits.mplot3d import Axes3D\n",
    "from matplotlib import cm\n",
    "import matplotlib.pyplot as plt\n",
    "import numpy as np\n",
    "Perror = 0.3\n",
    "fig = plt.figure(figsize=(14,6))\n",
    "x1 = np.linspace(-10,10,100).reshape(100, 1)\n",
    "x2 = x1**2\n",
    "y = 3*x1 + 7*x2 - 2\n",
    "y2 = y + Perror*np.std(y)*(np.random.rand(100,1) - 0.5)\n",
    "X1, X2 = np.meshgrid(x1, x2)\n",
    "Y = 3*X1 + 7*X2 - 2\n",
    "Y2 = y + Perror*np.std(y)*(np.random.rand(100,100) - 0.5)\n",
    "ax = fig.add_subplot(1, 2, 1, projection='3d')\n",
    "p=ax.plot_surface(X1, X2, Y, rstride=2, cstride=2, cmap=cm.jet, alpha=0.7)\n",
    "\n",
    "## surface_plot with color grading and color bar\n",
    "ax = fig.add_subplot(1, 2, 2, projection='3d')\n",
    "p = ax.plot_surface(X1, X2, Y2, rstride=2, cstride=2, cmap=cm.jet, alpha=0.7)\n",
    "cb = fig.colorbar(p, shrink=0.5)"
   ]
  },
  {
   "cell_type": "markdown",
   "metadata": {},
   "source": [
    "#### Gradiente descendetente"
   ]
  },
  {
   "cell_type": "code",
   "execution_count": 11,
   "metadata": {},
   "outputs": [
    {
     "name": "stdout",
     "output_type": "stream",
     "text": [
      "[[ 3.05434087]\n",
      " [ 7.04060288]\n",
      " [-1.25087792]]\n",
      " Error =  185.98309325348953\n"
     ]
    },
    {
     "data": {
      "image/png": "[encoded data removed]",
      "text/plain": [
       "<Figure size 432x288 with 1 Axes>"
      ]
     },
     "metadata": {
      "needs_background": "light"
     },
     "output_type": "display_data"
    }
   ],
   "source": [
    "MaxIter = 100000\n",
    "w = np.ones(3).reshape(3, 1)\n",
    "eta = 0.0001\n",
    "N = len(x1)\n",
    "Error =np.zeros(MaxIter)\n",
    "X = np.array([x1,x2,np.ones((100,1))]).reshape(3, 100);\n",
    "for i in range(MaxIter):\n",
    "    tem = np.dot(X.T,w)\n",
    "    tem2 = tem-np.array(y2)\n",
    "    Error[i] = np.sum(tem2**2)/(2*N)\n",
    "    tem = np.dot(X,tem2)\n",
    "    wsig = w - eta*tem/N\n",
    "    w = wsig\n",
    "print(w)\n",
    "print(' Error = ',Error[-1])\n",
    "plt.ylim(0,1000)\n",
    "plt.xlim(0,200)\n",
    "plt.ion()\n",
    "plt.plot(np.linspace(0,MaxIter,MaxIter),Error)\n",
    "plt.show()"
   ]
  },
  {
   "cell_type": "markdown",
   "metadata": {},
   "source": [
    "Comparando el resultado obtenido, vemos que el algoritmo de gradiente descendente encontró los siguientes coeficientes: 2.9718 (El original era 3), 6.9507 (El original era 7) y -0.0904 (El original era -2). Es necesario tener en cuenta que a los datos originales les fue añadido un 30% de error, razón por la cual el algoritmo no necesariamente va a obtener los valores exactos de los coeficientes. Sin embargo, podemos observar que hizo una estimación bastante aceptable. ** Nota. ** Cada vez que se corre el algoritmo puede dar un resultado ligeramente diferente porque el error añadido a los datos es aleatorio."
   ]
  },
  {
   "cell_type": "code",
   "execution_count": 12,
   "metadata": {},
   "outputs": [
    {
     "data": {
      "application/javascript": [
       "/* Put everything inside the global mpl namespace */\n",
       "window.mpl = {};\n",
       "\n",
       "\n",
       "mpl.get_websocket_type = function() {\n",
       "    if (typeof(WebSocket) !== 'undefined') {\n",
       "        return WebSocket;\n",
       "    } else if (typeof(MozWebSocket) !== 'undefined') {\n",
       "        return MozWebSocket;\n",
       "    } else {\n",
       "        alert('Your browser does not have WebSocket support.' +\n",
       "              'Please try Chrome, Safari or Firefox ≥ 6. ' +\n",
       "              'Firefox 4 and 5 are also supported but you ' +\n",
       "              'have to enable WebSockets in about:config.');\n",
       "    };\n",
       "}\n",
       "\n",
       "mpl.figure = function(figure_id, websocket, ondownload, parent_element) {\n",
       "    this.id = figure_id;\n",
       "\n",
       "    this.ws = websocket;\n",
       "\n",
       "    this.supports_binary = (this.ws.binaryType != undefined);\n",
       "\n",
       "    if (!this.supports_binary) {\n",
       "        var warnings = document.getElementById(\"mpl-warnings\");\n",
       "        if (warnings) {\n",
       "            warnings.style.display = 'block';\n",
       "            warnings.textContent = (\n",
       "                \"This browser does not support binary websocket messages. \" +\n",
       "                    \"Performance may be slow.\");\n",
       "        }\n",
       "    }\n",
       "\n",
       "    this.imageObj = new Image();\n",
       "\n",
       "    this.context = undefined;\n",
       "    this.message = undefined;\n",
       "    this.canvas = undefined;\n",
       "    this.rubberband_canvas = undefined;\n",
       "    this.rubberband_context = undefined;\n",
       "    this.format_dropdown = undefined;\n",
       "\n",
       "    this.image_mode = 'full';\n",
       "\n",
       "    this.root = $('<div/>');\n",
       "    this._root_extra_style(this.root)\n",
       "    this.root.attr('style', 'display: inline-block');\n",
       "\n",
       "    $(parent_element).append(this.root);\n",
       "\n",
       "    this._init_header(this);\n",
       "    this._init_canvas(this);\n",
       "    this._init_toolbar(this);\n",
       "\n",
       "    var fig = this;\n",
       "\n",
       "    this.waiting = false;\n",
       "\n",
       "    this.ws.onopen =  function () {\n",
       "            fig.send_message(\"supports_binary\", {value: fig.supports_binary});\n",
       "            fig.send_message(\"send_image_mode\", {});\n",
       "            if (mpl.ratio != 1) {\n",
       "                fig.send_message(\"set_dpi_ratio\", {'dpi_ratio': mpl.ratio});\n",
       "            }\n",
       "            fig.send_message(\"refresh\", {});\n",
       "        }\n",
       "\n",
       "    this.imageObj.onload = function() {\n",
       "            if (fig.image_mode == 'full') {\n",
       "                // Full images could contain transparency (where diff images\n",
       "                // almost always do), so we need to clear the canvas so that\n",
       "                // there is no ghosting.\n",
       "                fig.context.clearRect(0, 0, fig.canvas.width, fig.canvas.height);\n",
       "            }\n",
       "            fig.context.drawImage(fig.imageObj, 0, 0);\n",
       "        };\n",
       "\n",
       "    this.imageObj.onunload = function() {\n",
       "        fig.ws.close();\n",
       "    }\n",
       "\n",
       "    this.ws.onmessage = this._make_on_message_function(this);\n",
       "\n",
       "    this.ondownload = ondownload;\n",
       "}\n",
       "\n",
       "mpl.figure.prototype._init_header = function() {\n",
       "    var titlebar = $(\n",
       "        '<div class=\"ui-dialog-titlebar ui-widget-header ui-corner-all ' +\n",
       "        'ui-helper-clearfix\"/>');\n",
       "    var titletext = $(\n",
       "        '<div class=\"ui-dialog-title\" style=\"width: 100%; ' +\n",
       "        'text-align: center; padding: 3px;\"/>');\n",
       "    titlebar.append(titletext)\n",
       "    this.root.append(titlebar);\n",
       "    this.header = titletext[0];\n",
       "}\n",
       "\n",
       "\n",
       "\n",
       "mpl.figure.prototype._canvas_extra_style = function(canvas_div) {\n",
       "\n",
       "}\n",
       "\n",
       "\n",
       "mpl.figure.prototype._root_extra_style = function(canvas_div) {\n",
       "\n",
       "}\n",
       "\n",
       "mpl.figure.prototype._init_canvas = function() {\n",
       "    var fig = this;\n",
       "\n",
       "    var canvas_div = $('<div/>');\n",
       "\n",
       "    canvas_div.attr('style', 'position: relative; clear: both; outline: 0');\n",
       "\n",
       "    function canvas_keyboard_event(event) {\n",
       "        return fig.key_event(event, event['data']);\n",
       "    }\n",
       "\n",
       "    canvas_div.keydown('key_press', canvas_keyboard_event);\n",
       "    canvas_div.keyup('key_release', canvas_keyboard_event);\n",
       "    this.canvas_div = canvas_div\n",
       "    this._canvas_extra_style(canvas_div)\n",
       "    this.root.append(canvas_div);\n",
       "\n",
       "    var canvas = $('<canvas/>');\n",
       "    canvas.addClass('mpl-canvas');\n",
       "    canvas.attr('style', \"left: 0; top: 0; z-index: 0; outline: 0\")\n",
       "\n",
       "    this.canvas = canvas[0];\n",
       "    this.context = canvas[0].getContext(\"2d\");\n",
       "\n",
       "    var backingStore = this.context.backingStorePixelRatio ||\n",
       "\tthis.context.webkitBackingStorePixelRatio ||\n",
       "\tthis.context.mozBackingStorePixelRatio ||\n",
       "\tthis.context.msBackingStorePixelRatio ||\n",
       "\tthis.context.oBackingStorePixelRatio ||\n",
       "\tthis.context.backingStorePixelRatio || 1;\n",
       "\n",
       "    mpl.ratio = (window.devicePixelRatio || 1) / backingStore;\n",
       "\n",
       "    var rubberband = $('<canvas/>');\n",
       "    rubberband.attr('style', \"position: absolute; left: 0; top: 0; z-index: 1;\")\n",
       "\n",
       "    var pass_mouse_events = true;\n",
       "\n",
       "    canvas_div.resizable({\n",
       "        start: function(event, ui) {\n",
       "            pass_mouse_events = false;\n",
       "        },\n",
       "        resize: function(event, ui) {\n",
       "            fig.request_resize(ui.size.width, ui.size.height);\n",
       "        },\n",
       "        stop: function(event, ui) {\n",
       "            pass_mouse_events = true;\n",
       "            fig.request_resize(ui.size.width, ui.size.height);\n",
       "        },\n",
       "    });\n",
       "\n",
       "    function mouse_event_fn(event) {\n",
       "        if (pass_mouse_events)\n",
       "            return fig.mouse_event(event, event['data']);\n",
       "    }\n",
       "\n",
       "    rubberband.mousedown('button_press', mouse_event_fn);\n",
       "    rubberband.mouseup('button_release', mouse_event_fn);\n",
       "    // Throttle sequential mouse events to 1 every 20ms.\n",
       "    rubberband.mousemove('motion_notify', mouse_event_fn);\n",
       "\n",
       "    rubberband.mouseenter('figure_enter', mouse_event_fn);\n",
       "    rubberband.mouseleave('figure_leave', mouse_event_fn);\n",
       "\n",
       "    canvas_div.on(\"wheel\", function (event) {\n",
       "        event = event.originalEvent;\n",
       "        event['data'] = 'scroll'\n",
       "        if (event.deltaY < 0) {\n",
       "            event.step = 1;\n",
       "        } else {\n",
       "            event.step = -1;\n",
       "        }\n",
       "        mouse_event_fn(event);\n",
       "    });\n",
       "\n",
       "    canvas_div.append(canvas);\n",
       "    canvas_div.append(rubberband);\n",
       "\n",
       "    this.rubberband = rubberband;\n",
       "    this.rubberband_canvas = rubberband[0];\n",
       "    this.rubberband_context = rubberband[0].getContext(\"2d\");\n",
       "    this.rubberband_context.strokeStyle = \"#000000\";\n",
       "\n",
       "    this._resize_canvas = function(width, height) {\n",
       "        // Keep the size of the canvas, canvas container, and rubber band\n",
       "        // canvas in synch.\n",
       "        canvas_div.css('width', width)\n",
       "        canvas_div.css('height', height)\n",
       "\n",
       "        canvas.attr('width', width * mpl.ratio);\n",
       "        canvas.attr('height', height * mpl.ratio);\n",
       "        canvas.attr('style', 'width: ' + width + 'px; height: ' + height + 'px;');\n",
       "\n",
       "        rubberband.attr('width', width);\n",
       "        rubberband.attr('height', height);\n",
       "    }\n",
       "\n",
       "    // Set the figure to an initial 600x600px, this will subsequently be updated\n",
       "    // upon first draw.\n",
       "    this._resize_canvas(600, 600);\n",
       "\n",
       "    // Disable right mouse context menu.\n",
       "    $(this.rubberband_canvas).bind(\"contextmenu\",function(e){\n",
       "        return false;\n",
       "    });\n",
       "\n",
       "    function set_focus () {\n",
       "        canvas.focus();\n",
       "        canvas_div.focus();\n",
       "    }\n",
       "\n",
       "    window.setTimeout(set_focus, 100);\n",
       "}\n",
       "\n",
       "mpl.figure.prototype._init_toolbar = function() {\n",
       "    var fig = this;\n",
       "\n",
       "    var nav_element = $('<div/>')\n",
       "    nav_element.attr('style', 'width: 100%');\n",
       "    this.root.append(nav_element);\n",
       "\n",
       "    // Define a callback function for later on.\n",
       "    function toolbar_event(event) {\n",
       "        return fig.toolbar_button_onclick(event['data']);\n",
       "    }\n",
       "    function toolbar_mouse_event(event) {\n",
       "        return fig.toolbar_button_onmouseover(event['data']);\n",
       "    }\n",
       "\n",
       "    for(var toolbar_ind in mpl.toolbar_items) {\n",
       "        var name = mpl.toolbar_items[toolbar_ind][0];\n",
       "        var tooltip = mpl.toolbar_items[toolbar_ind][1];\n",
       "        var image = mpl.toolbar_items[toolbar_ind][2];\n",
       "        var method_name = mpl.toolbar_items[toolbar_ind][3];\n",
       "\n",
       "        if (!name) {\n",
       "            // put a spacer in here.\n",
       "            continue;\n",
       "        }\n",
       "        var button = $('<button/>');\n",
       "        button.addClass('ui-button ui-widget ui-state-default ui-corner-all ' +\n",
       "                        'ui-button-icon-only');\n",
       "        button.attr('role', 'button');\n",
       "        button.attr('aria-disabled', 'false');\n",
       "        button.click(method_name, toolbar_event);\n",
       "        button.mouseover(tooltip, toolbar_mouse_event);\n",
       "\n",
       "        var icon_img = $('<span/>');\n",
       "        icon_img.addClass('ui-button-icon-primary ui-icon');\n",
       "        icon_img.addClass(image);\n",
       "        icon_img.addClass('ui-corner-all');\n",
       "\n",
       "        var tooltip_span = $('<span/>');\n",
       "        tooltip_span.addClass('ui-button-text');\n",
       "        tooltip_span.html(tooltip);\n",
       "\n",
       "        button.append(icon_img);\n",
       "        button.append(tooltip_span);\n",
       "\n",
       "        nav_element.append(button);\n",
       "    }\n",
       "\n",
       "    var fmt_picker_span = $('<span/>');\n",
       "\n",
       "    var fmt_picker = $('<select/>');\n",
       "    fmt_picker.addClass('mpl-toolbar-option ui-widget ui-widget-content');\n",
       "    fmt_picker_span.append(fmt_picker);\n",
       "    nav_element.append(fmt_picker_span);\n",
       "    this.format_dropdown = fmt_picker[0];\n",
       "\n",
       "    for (var ind in mpl.extensions) {\n",
       "        var fmt = mpl.extensions[ind];\n",
       "        var option = $(\n",
       "            '<option/>', {selected: fmt === mpl.default_extension}).html(fmt);\n",
       "        fmt_picker.append(option)\n",
       "    }\n",
       "\n",
       "    // Add hover states to the ui-buttons\n",
       "    $( \".ui-button\" ).hover(\n",
       "        function() { $(this).addClass(\"ui-state-hover\");},\n",
       "        function() { $(this).removeClass(\"ui-state-hover\");}\n",
       "    );\n",
       "\n",
       "    var status_bar = $('<span class=\"mpl-message\"/>');\n",
       "    nav_element.append(status_bar);\n",
       "    this.message = status_bar[0];\n",
       "}\n",
       "\n",
       "mpl.figure.prototype.request_resize = function(x_pixels, y_pixels) {\n",
       "    // Request matplotlib to resize the figure. Matplotlib will then trigger a resize in the client,\n",
       "    // which will in turn request a refresh of the image.\n",
       "    this.send_message('resize', {'width': x_pixels, 'height': y_pixels});\n",
       "}\n",
       "\n",
       "mpl.figure.prototype.send_message = function(type, properties) {\n",
       "    properties['type'] = type;\n",
       "    properties['figure_id'] = this.id;\n",
       "    this.ws.send(JSON.stringify(properties));\n",
       "}\n",
       "\n",
       "mpl.figure.prototype.send_draw_message = function() {\n",
       "    if (!this.waiting) {\n",
       "        this.waiting = true;\n",
       "        this.ws.send(JSON.stringify({type: \"draw\", figure_id: this.id}));\n",
       "    }\n",
       "}\n",
       "\n",
       "\n",
       "mpl.figure.prototype.handle_save = function(fig, msg) {\n",
       "    var format_dropdown = fig.format_dropdown;\n",
       "    var format = format_dropdown.options[format_dropdown.selectedIndex].value;\n",
       "    fig.ondownload(fig, format);\n",
       "}\n",
       "\n",
       "\n",
       "mpl.figure.prototype.handle_resize = function(fig, msg) {\n",
       "    var size = msg['size'];\n",
       "    if (size[0] != fig.canvas.width || size[1] != fig.canvas.height) {\n",
       "        fig._resize_canvas(size[0], size[1]);\n",
       "        fig.send_message(\"refresh\", {});\n",
       "    };\n",
       "}\n",
       "\n",
       "mpl.figure.prototype.handle_rubberband = function(fig, msg) {\n",
       "    var x0 = msg['x0'] / mpl.ratio;\n",
       "    var y0 = (fig.canvas.height - msg['y0']) / mpl.ratio;\n",
       "    var x1 = msg['x1'] / mpl.ratio;\n",
       "    var y1 = (fig.canvas.height - msg['y1']) / mpl.ratio;\n",
       "    x0 = Math.floor(x0) + 0.5;\n",
       "    y0 = Math.floor(y0) + 0.5;\n",
       "    x1 = Math.floor(x1) + 0.5;\n",
       "    y1 = Math.floor(y1) + 0.5;\n",
       "    var min_x = Math.min(x0, x1);\n",
       "    var min_y = Math.min(y0, y1);\n",
       "    var width = Math.abs(x1 - x0);\n",
       "    var height = Math.abs(y1 - y0);\n",
       "\n",
       "    fig.rubberband_context.clearRect(\n",
       "        0, 0, fig.canvas.width, fig.canvas.height);\n",
       "\n",
       "    fig.rubberband_context.strokeRect(min_x, min_y, width, height);\n",
       "}\n",
       "\n",
       "mpl.figure.prototype.handle_figure_label = function(fig, msg) {\n",
       "    // Updates the figure title.\n",
       "    fig.header.textContent = msg['label'];\n",
       "}\n",
       "\n",
       "mpl.figure.prototype.handle_cursor = function(fig, msg) {\n",
       "    var cursor = msg['cursor'];\n",
       "    switch(cursor)\n",
       "    {\n",
       "    case 0:\n",
       "        cursor = 'pointer';\n",
       "        break;\n",
       "    case 1:\n",
       "        cursor = 'default';\n",
       "        break;\n",
       "    case 2:\n",
       "        cursor = 'crosshair';\n",
       "        break;\n",
       "    case 3:\n",
       "        cursor = 'move';\n",
       "        break;\n",
       "    }\n",
       "    fig.rubberband_canvas.style.cursor = cursor;\n",
       "}\n",
       "\n",
       "mpl.figure.prototype.handle_message = function(fig, msg) {\n",
       "    fig.message.textContent = msg['message'];\n",
       "}\n",
       "\n",
       "mpl.figure.prototype.handle_draw = function(fig, msg) {\n",
       "    // Request the server to send over a new figure.\n",
       "    fig.send_draw_message();\n",
       "}\n",
       "\n",
       "mpl.figure.prototype.handle_image_mode = function(fig, msg) {\n",
       "    fig.image_mode = msg['mode'];\n",
       "}\n",
       "\n",
       "mpl.figure.prototype.updated_canvas_event = function() {\n",
       "    // Called whenever the canvas gets updated.\n",
       "    this.send_message(\"ack\", {});\n",
       "}\n",
       "\n",
       "// A function to construct a web socket function for onmessage handling.\n",
       "// Called in the figure constructor.\n",
       "mpl.figure.prototype._make_on_message_function = function(fig) {\n",
       "    return function socket_on_message(evt) {\n",
       "        if (evt.data instanceof Blob) {\n",
       "            /* FIXME: We get \"Resource interpreted as Image but\n",
       "             * transferred with MIME type text/plain:\" errors on\n",
       "             * Chrome.  But how to set the MIME type?  It doesn't seem\n",
       "             * to be part of the websocket stream */\n",
       "            evt.data.type = \"image/png\";\n",
       "\n",
       "            /* Free the memory for the previous frames */\n",
       "            if (fig.imageObj.src) {\n",
       "                (window.URL || window.webkitURL).revokeObjectURL(\n",
       "                    fig.imageObj.src);\n",
       "            }\n",
       "\n",
       "            fig.imageObj.src = (window.URL || window.webkitURL).createObjectURL(\n",
       "                evt.data);\n",
       "            fig.updated_canvas_event();\n",
       "            fig.waiting = false;\n",
       "            return;\n",
       "        }\n",
       "        else if (typeof evt.data === 'string' && evt.data.slice(0, 21) == \"data:image/png;base64\") {\n",
       "            fig.imageObj.src = evt.data;\n",
       "            fig.updated_canvas_event();\n",
       "            fig.waiting = false;\n",
       "            return;\n",
       "        }\n",
       "\n",
       "        var msg = JSON.parse(evt.data);\n",
       "        var msg_type = msg['type'];\n",
       "\n",
       "        // Call the  \"handle_{type}\" callback, which takes\n",
       "        // the figure and JSON message as its only arguments.\n",
       "        try {\n",
       "            var callback = fig[\"handle_\" + msg_type];\n",
       "        } catch (e) {\n",
       "            console.log(\"No handler for the '\" + msg_type + \"' message type: \", msg);\n",
       "            return;\n",
       "        }\n",
       "\n",
       "        if (callback) {\n",
       "            try {\n",
       "                // console.log(\"Handling '\" + msg_type + \"' message: \", msg);\n",
       "                callback(fig, msg);\n",
       "            } catch (e) {\n",
       "                console.log(\"Exception inside the 'handler_\" + msg_type + \"' callback:\", e, e.stack, msg);\n",
       "            }\n",
       "        }\n",
       "    };\n",
       "}\n",
       "\n",
       "// from http://stackoverflow.com/questions/1114465/getting-mouse-location-in-canvas\n",
       "mpl.findpos = function(e) {\n",
       "    //this section is from http://www.quirksmode.org/js/events_properties.html\n",
       "    var targ;\n",
       "    if (!e)\n",
       "        e = window.event;\n",
       "    if (e.target)\n",
       "        targ = e.target;\n",
       "    else if (e.srcElement)\n",
       "        targ = e.srcElement;\n",
       "    if (targ.nodeType == 3) // defeat Safari bug\n",
       "        targ = targ.parentNode;\n",
       "\n",
       "    // jQuery normalizes the pageX and pageY\n",
       "    // pageX,Y are the mouse positions relative to the document\n",
       "    // offset() returns the position of the element relative to the document\n",
       "    var x = e.pageX - $(targ).offset().left;\n",
       "    var y = e.pageY - $(targ).offset().top;\n",
       "\n",
       "    return {\"x\": x, \"y\": y};\n",
       "};\n",
       "\n",
       "/*\n",
       " * return a copy of an object with only non-object keys\n",
       " * we need this to avoid circular references\n",
       " * http://stackoverflow.com/a/24161582/3208463\n",
       " */\n",
       "function simpleKeys (original) {\n",
       "  return Object.keys(original).reduce(function (obj, key) {\n",
       "    if (typeof original[key] !== 'object')\n",
       "        obj[key] = original[key]\n",
       "    return obj;\n",
       "  }, {});\n",
       "}\n",
       "\n",
       "mpl.figure.prototype.mouse_event = function(event, name) {\n",
       "    var canvas_pos = mpl.findpos(event)\n",
       "\n",
       "    if (name === 'button_press')\n",
       "    {\n",
       "        this.canvas.focus();\n",
       "        this.canvas_div.focus();\n",
       "    }\n",
       "\n",
       "    var x = canvas_pos.x * mpl.ratio;\n",
       "    var y = canvas_pos.y * mpl.ratio;\n",
       "\n",
       "    this.send_message(name, {x: x, y: y, button: event.button,\n",
       "                             step: event.step,\n",
       "                             guiEvent: simpleKeys(event)});\n",
       "\n",
       "    /* This prevents the web browser from automatically changing to\n",
       "     * the text insertion cursor when the button is pressed.  We want\n",
       "     * to control all of the cursor setting manually through the\n",
       "     * 'cursor' event from matplotlib */\n",
       "    event.preventDefault();\n",
       "    return false;\n",
       "}\n",
       "\n",
       "mpl.figure.prototype._key_event_extra = function(event, name) {\n",
       "    // Handle any extra behaviour associated with a key event\n",
       "}\n",
       "\n",
       "mpl.figure.prototype.key_event = function(event, name) {\n",
       "\n",
       "    // Prevent repeat events\n",
       "    if (name == 'key_press')\n",
       "    {\n",
       "        if (event.which === this._key)\n",
       "            return;\n",
       "        else\n",
       "            this._key = event.which;\n",
       "    }\n",
       "    if (name == 'key_release')\n",
       "        this._key = null;\n",
       "\n",
       "    var value = '';\n",
       "    if (event.ctrlKey && event.which != 17)\n",
       "        value += \"ctrl+\";\n",
       "    if (event.altKey && event.which != 18)\n",
       "        value += \"alt+\";\n",
       "    if (event.shiftKey && event.which != 16)\n",
       "        value += \"shift+\";\n",
       "\n",
       "    value += 'k';\n",
       "    value += event.which.toString();\n",
       "\n",
       "    this._key_event_extra(event, name);\n",
       "\n",
       "    this.send_message(name, {key: value,\n",
       "                             guiEvent: simpleKeys(event)});\n",
       "    return false;\n",
       "}\n",
       "\n",
       "mpl.figure.prototype.toolbar_button_onclick = function(name) {\n",
       "    if (name == 'download') {\n",
       "        this.handle_save(this, null);\n",
       "    } else {\n",
       "        this.send_message(\"toolbar_button\", {name: name});\n",
       "    }\n",
       "};\n",
       "\n",
       "mpl.figure.prototype.toolbar_button_onmouseover = function(tooltip) {\n",
       "    this.message.textContent = tooltip;\n",
       "};\n",
       "mpl.toolbar_items = [[\"Home\", \"Reset original view\", \"fa fa-home icon-home\", \"home\"], [\"Back\", \"Back to previous view\", \"fa fa-arrow-left icon-arrow-left\", \"back\"], [\"Forward\", \"Forward to next view\", \"fa fa-arrow-right icon-arrow-right\", \"forward\"], [\"\", \"\", \"\", \"\"], [\"Pan\", \"Pan axes with left mouse, zoom with right\", \"fa fa-arrows icon-move\", \"pan\"], [\"Zoom\", \"Zoom to rectangle\", \"fa fa-square-o icon-check-empty\", \"zoom\"], [\"\", \"\", \"\", \"\"], [\"Download\", \"Download plot\", \"fa fa-floppy-o icon-save\", \"download\"]];\n",
       "\n",
       "mpl.extensions = [\"eps\", \"jpeg\", \"pdf\", \"png\", \"ps\", \"raw\", \"svg\", \"tif\"];\n",
       "\n",
       "mpl.default_extension = \"png\";var comm_websocket_adapter = function(comm) {\n",
       "    // Create a \"websocket\"-like object which calls the given IPython comm\n",
       "    // object with the appropriate methods. Currently this is a non binary\n",
       "    // socket, so there is still some room for performance tuning.\n",
       "    var ws = {};\n",
       "\n",
       "    ws.close = function() {\n",
       "        comm.close()\n",
       "    };\n",
       "    ws.send = function(m) {\n",
       "        //console.log('sending', m);\n",
       "        comm.send(m);\n",
       "    };\n",
       "    // Register the callback with on_msg.\n",
       "    comm.on_msg(function(msg) {\n",
       "        //console.log('receiving', msg['content']['data'], msg);\n",
       "        // Pass the mpl event to the overridden (by mpl) onmessage function.\n",
       "        ws.onmessage(msg['content']['data'])\n",
       "    });\n",
       "    return ws;\n",
       "}\n",
       "\n",
       "mpl.mpl_figure_comm = function(comm, msg) {\n",
       "    // This is the function which gets called when the mpl process\n",
       "    // starts-up an IPython Comm through the \"matplotlib\" channel.\n",
       "\n",
       "    var id = msg.content.data.id;\n",
       "    // Get hold of the div created by the display call when the Comm\n",
       "    // socket was opened in Python.\n",
       "    var element = $(\"#\" + id);\n",
       "    var ws_proxy = comm_websocket_adapter(comm)\n",
       "\n",
       "    function ondownload(figure, format) {\n",
       "        window.open(figure.imageObj.src);\n",
       "    }\n",
       "\n",
       "    var fig = new mpl.figure(id, ws_proxy,\n",
       "                           ondownload,\n",
       "                           element.get(0));\n",
       "\n",
       "    // Call onopen now - mpl needs it, as it is assuming we've passed it a real\n",
       "    // web socket which is closed, not our websocket->open comm proxy.\n",
       "    ws_proxy.onopen();\n",
       "\n",
       "    fig.parent_element = element.get(0);\n",
       "    fig.cell_info = mpl.find_output_cell(\"<div id='\" + id + \"'></div>\");\n",
       "    if (!fig.cell_info) {\n",
       "        console.error(\"Failed to find cell for figure\", id, fig);\n",
       "        return;\n",
       "    }\n",
       "\n",
       "    var output_index = fig.cell_info[2]\n",
       "    var cell = fig.cell_info[0];\n",
       "\n",
       "};\n",
       "\n",
       "mpl.figure.prototype.handle_close = function(fig, msg) {\n",
       "    var width = fig.canvas.width/mpl.ratio\n",
       "    fig.root.unbind('remove')\n",
       "\n",
       "    // Update the output cell to use the data from the current canvas.\n",
       "    fig.push_to_output();\n",
       "    var dataURL = fig.canvas.toDataURL();\n",
       "    // Re-enable the keyboard manager in IPython - without this line, in FF,\n",
       "    // the notebook keyboard shortcuts fail.\n",
       "    IPython.keyboard_manager.enable()\n",
       "    $(fig.parent_element).html('<img src=\"' + dataURL + '\" width=\"' + width + '\">');\n",
       "    fig.close_ws(fig, msg);\n",
       "}\n",
       "\n",
       "mpl.figure.prototype.close_ws = function(fig, msg){\n",
       "    fig.send_message('closing', msg);\n",
       "    // fig.ws.close()\n",
       "}\n",
       "\n",
       "mpl.figure.prototype.push_to_output = function(remove_interactive) {\n",
       "    // Turn the data on the canvas into data in the output cell.\n",
       "    var width = this.canvas.width/mpl.ratio\n",
       "    var dataURL = this.canvas.toDataURL();\n",
       "    this.cell_info[1]['text/html'] = '<img src=\"' + dataURL + '\" width=\"' + width + '\">';\n",
       "}\n",
       "\n",
       "mpl.figure.prototype.updated_canvas_event = function() {\n",
       "    // Tell IPython that the notebook contents must change.\n",
       "    IPython.notebook.set_dirty(true);\n",
       "    this.send_message(\"ack\", {});\n",
       "    var fig = this;\n",
       "    // Wait a second, then push the new image to the DOM so\n",
       "    // that it is saved nicely (might be nice to debounce this).\n",
       "    setTimeout(function () { fig.push_to_output() }, 1000);\n",
       "}\n",
       "\n",
       "mpl.figure.prototype._init_toolbar = function() {\n",
       "    var fig = this;\n",
       "\n",
       "    var nav_element = $('<div/>')\n",
       "    nav_element.attr('style', 'width: 100%');\n",
       "    this.root.append(nav_element);\n",
       "\n",
       "    // Define a callback function for later on.\n",
       "    function toolbar_event(event) {\n",
       "        return fig.toolbar_button_onclick(event['data']);\n",
       "    }\n",
       "    function toolbar_mouse_event(event) {\n",
       "        return fig.toolbar_button_onmouseover(event['data']);\n",
       "    }\n",
       "\n",
       "    for(var toolbar_ind in mpl.toolbar_items){\n",
       "        var name = mpl.toolbar_items[toolbar_ind][0];\n",
       "        var tooltip = mpl.toolbar_items[toolbar_ind][1];\n",
       "        var image = mpl.toolbar_items[toolbar_ind][2];\n",
       "        var method_name = mpl.toolbar_items[toolbar_ind][3];\n",
       "\n",
       "        if (!name) { continue; };\n",
       "\n",
       "        var button = $('<button class=\"btn btn-default\" href=\"#\" title=\"' + name + '\"><i class=\"fa ' + image + ' fa-lg\"></i></button>');\n",
       "        button.click(method_name, toolbar_event);\n",
       "        button.mouseover(tooltip, toolbar_mouse_event);\n",
       "        nav_element.append(button);\n",
       "    }\n",
       "\n",
       "    // Add the status bar.\n",
       "    var status_bar = $('<span class=\"mpl-message\" style=\"text-align:right; float: right;\"/>');\n",
       "    nav_element.append(status_bar);\n",
       "    this.message = status_bar[0];\n",
       "\n",
       "    // Add the close button to the window.\n",
       "    var buttongrp = $('<div class=\"btn-group inline pull-right\"></div>');\n",
       "    var button = $('<button class=\"btn btn-mini btn-primary\" href=\"#\" title=\"Stop Interaction\"><i class=\"fa fa-power-off icon-remove icon-large\"></i></button>');\n",
       "    button.click(function (evt) { fig.handle_close(fig, {}); } );\n",
       "    button.mouseover('Stop Interaction', toolbar_mouse_event);\n",
       "    buttongrp.append(button);\n",
       "    var titlebar = this.root.find($('.ui-dialog-titlebar'));\n",
       "    titlebar.prepend(buttongrp);\n",
       "}\n",
       "\n",
       "mpl.figure.prototype._root_extra_style = function(el){\n",
       "    var fig = this\n",
       "    el.on(\"remove\", function(){\n",
       "\tfig.close_ws(fig, {});\n",
       "    });\n",
       "}\n",
       "\n",
       "mpl.figure.prototype._canvas_extra_style = function(el){\n",
       "    // this is important to make the div 'focusable\n",
       "    el.attr('tabindex', 0)\n",
       "    // reach out to IPython and tell the keyboard manager to turn it's self\n",
       "    // off when our div gets focus\n",
       "\n",
       "    // location in version 3\n",
       "    if (IPython.notebook.keyboard_manager) {\n",
       "        IPython.notebook.keyboard_manager.register_events(el);\n",
       "    }\n",
       "    else {\n",
       "        // location in version 2\n",
       "        IPython.keyboard_manager.register_events(el);\n",
       "    }\n",
       "\n",
       "}\n",
       "\n",
       "mpl.figure.prototype._key_event_extra = function(event, name) {\n",
       "    var manager = IPython.notebook.keyboard_manager;\n",
       "    if (!manager)\n",
       "        manager = IPython.keyboard_manager;\n",
       "\n",
       "    // Check for shift+enter\n",
       "    if (event.shiftKey && event.which == 13) {\n",
       "        this.canvas_div.blur();\n",
       "        event.shiftKey = false;\n",
       "        // Send a \"J\" for go to next cell\n",
       "        event.which = 74;\n",
       "        event.keyCode = 74;\n",
       "        manager.command_mode();\n",
       "        manager.handle_keydown(event);\n",
       "    }\n",
       "}\n",
       "\n",
       "mpl.figure.prototype.handle_save = function(fig, msg) {\n",
       "    fig.ondownload(fig, null);\n",
       "}\n",
       "\n",
       "\n",
       "mpl.find_output_cell = function(html_output) {\n",
       "    // Return the cell and output element which can be found *uniquely* in the notebook.\n",
       "    // Note - this is a bit hacky, but it is done because the \"notebook_saving.Notebook\"\n",
       "    // IPython event is triggered only after the cells have been serialised, which for\n",
       "    // our purposes (turning an active figure into a static one), is too late.\n",
       "    var cells = IPython.notebook.get_cells();\n",
       "    var ncells = cells.length;\n",
       "    for (var i=0; i<ncells; i++) {\n",
       "        var cell = cells[i];\n",
       "        if (cell.cell_type === 'code'){\n",
       "            for (var j=0; j<cell.output_area.outputs.length; j++) {\n",
       "                var data = cell.output_area.outputs[j];\n",
       "                if (data.data) {\n",
       "                    // IPython >= 3 moved mimebundle to data attribute of output\n",
       "                    data = data.data;\n",
       "                }\n",
       "                if (data['text/html'] == html_output) {\n",
       "                    return [cell, data, j];\n",
       "                }\n",
       "            }\n",
       "        }\n",
       "    }\n",
       "}\n",
       "\n",
       "// Register the function which deals with the matplotlib target/channel.\n",
       "// The kernel may be null if the page has been refreshed.\n",
       "if (IPython.notebook.kernel != null) {\n",
       "    IPython.notebook.kernel.comm_manager.register_target('matplotlib', mpl.mpl_figure_comm);\n",
       "}\n"
      ],
      "text/plain": [
       "<IPython.core.display.Javascript object>"
      ]
     },
     "metadata": {},
     "output_type": "display_data"
    },
    {
     "data": {
      "text/html": [
       "<img src=\"data:image/png;base64,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\" width=\"432\">"
      ],
      "text/plain": [
       "<IPython.core.display.HTML object>"
      ]
     },
     "metadata": {},
     "output_type": "display_data"
    },
    {
     "data": {
      "application/javascript": [
       "/* Put everything inside the global mpl namespace */\n",
       "window.mpl = {};\n",
       "\n",
       "\n",
       "mpl.get_websocket_type = function() {\n",
       "    if (typeof(WebSocket) !== 'undefined') {\n",
       "        return WebSocket;\n",
       "    } else if (typeof(MozWebSocket) !== 'undefined') {\n",
       "        return MozWebSocket;\n",
       "    } else {\n",
       "        alert('Your browser does not have WebSocket support.' +\n",
       "              'Please try Chrome, Safari or Firefox ≥ 6. ' +\n",
       "              'Firefox 4 and 5 are also supported but you ' +\n",
       "              'have to enable WebSockets in about:config.');\n",
       "    };\n",
       "}\n",
       "\n",
       "mpl.figure = function(figure_id, websocket, ondownload, parent_element) {\n",
       "    this.id = figure_id;\n",
       "\n",
       "    this.ws = websocket;\n",
       "\n",
       "    this.supports_binary = (this.ws.binaryType != undefined);\n",
       "\n",
       "    if (!this.supports_binary) {\n",
       "        var warnings = document.getElementById(\"mpl-warnings\");\n",
       "        if (warnings) {\n",
       "            warnings.style.display = 'block';\n",
       "            warnings.textContent = (\n",
       "                \"This browser does not support binary websocket messages. \" +\n",
       "                    \"Performance may be slow.\");\n",
       "        }\n",
       "    }\n",
       "\n",
       "    this.imageObj = new Image();\n",
       "\n",
       "    this.context = undefined;\n",
       "    this.message = undefined;\n",
       "    this.canvas = undefined;\n",
       "    this.rubberband_canvas = undefined;\n",
       "    this.rubberband_context = undefined;\n",
       "    this.format_dropdown = undefined;\n",
       "\n",
       "    this.image_mode = 'full';\n",
       "\n",
       "    this.root = $('<div/>');\n",
       "    this._root_extra_style(this.root)\n",
       "    this.root.attr('style', 'display: inline-block');\n",
       "\n",
       "    $(parent_element).append(this.root);\n",
       "\n",
       "    this._init_header(this);\n",
       "    this._init_canvas(this);\n",
       "    this._init_toolbar(this);\n",
       "\n",
       "    var fig = this;\n",
       "\n",
       "    this.waiting = false;\n",
       "\n",
       "    this.ws.onopen =  function () {\n",
       "            fig.send_message(\"supports_binary\", {value: fig.supports_binary});\n",
       "            fig.send_message(\"send_image_mode\", {});\n",
       "            if (mpl.ratio != 1) {\n",
       "                fig.send_message(\"set_dpi_ratio\", {'dpi_ratio': mpl.ratio});\n",
       "            }\n",
       "            fig.send_message(\"refresh\", {});\n",
       "        }\n",
       "\n",
       "    this.imageObj.onload = function() {\n",
       "            if (fig.image_mode == 'full') {\n",
       "                // Full images could contain transparency (where diff images\n",
       "                // almost always do), so we need to clear the canvas so that\n",
       "                // there is no ghosting.\n",
       "                fig.context.clearRect(0, 0, fig.canvas.width, fig.canvas.height);\n",
       "            }\n",
       "            fig.context.drawImage(fig.imageObj, 0, 0);\n",
       "        };\n",
       "\n",
       "    this.imageObj.onunload = function() {\n",
       "        fig.ws.close();\n",
       "    }\n",
       "\n",
       "    this.ws.onmessage = this._make_on_message_function(this);\n",
       "\n",
       "    this.ondownload = ondownload;\n",
       "}\n",
       "\n",
       "mpl.figure.prototype._init_header = function() {\n",
       "    var titlebar = $(\n",
       "        '<div class=\"ui-dialog-titlebar ui-widget-header ui-corner-all ' +\n",
       "        'ui-helper-clearfix\"/>');\n",
       "    var titletext = $(\n",
       "        '<div class=\"ui-dialog-title\" style=\"width: 100%; ' +\n",
       "        'text-align: center; padding: 3px;\"/>');\n",
       "    titlebar.append(titletext)\n",
       "    this.root.append(titlebar);\n",
       "    this.header = titletext[0];\n",
       "}\n",
       "\n",
       "\n",
       "\n",
       "mpl.figure.prototype._canvas_extra_style = function(canvas_div) {\n",
       "\n",
       "}\n",
       "\n",
       "\n",
       "mpl.figure.prototype._root_extra_style = function(canvas_div) {\n",
       "\n",
       "}\n",
       "\n",
       "mpl.figure.prototype._init_canvas = function() {\n",
       "    var fig = this;\n",
       "\n",
       "    var canvas_div = $('<div/>');\n",
       "\n",
       "    canvas_div.attr('style', 'position: relative; clear: both; outline: 0');\n",
       "\n",
       "    function canvas_keyboard_event(event) {\n",
       "        return fig.key_event(event, event['data']);\n",
       "    }\n",
       "\n",
       "    canvas_div.keydown('key_press', canvas_keyboard_event);\n",
       "    canvas_div.keyup('key_release', canvas_keyboard_event);\n",
       "    this.canvas_div = canvas_div\n",
       "    this._canvas_extra_style(canvas_div)\n",
       "    this.root.append(canvas_div);\n",
       "\n",
       "    var canvas = $('<canvas/>');\n",
       "    canvas.addClass('mpl-canvas');\n",
       "    canvas.attr('style', \"left: 0; top: 0; z-index: 0; outline: 0\")\n",
       "\n",
       "    this.canvas = canvas[0];\n",
       "    this.context = canvas[0].getContext(\"2d\");\n",
       "\n",
       "    var backingStore = this.context.backingStorePixelRatio ||\n",
       "\tthis.context.webkitBackingStorePixelRatio ||\n",
       "\tthis.context.mozBackingStorePixelRatio ||\n",
       "\tthis.context.msBackingStorePixelRatio ||\n",
       "\tthis.context.oBackingStorePixelRatio ||\n",
       "\tthis.context.backingStorePixelRatio || 1;\n",
       "\n",
       "    mpl.ratio = (window.devicePixelRatio || 1) / backingStore;\n",
       "\n",
       "    var rubberband = $('<canvas/>');\n",
       "    rubberband.attr('style', \"position: absolute; left: 0; top: 0; z-index: 1;\")\n",
       "\n",
       "    var pass_mouse_events = true;\n",
       "\n",
       "    canvas_div.resizable({\n",
       "        start: function(event, ui) {\n",
       "            pass_mouse_events = false;\n",
       "        },\n",
       "        resize: function(event, ui) {\n",
       "            fig.request_resize(ui.size.width, ui.size.height);\n",
       "        },\n",
       "        stop: function(event, ui) {\n",
       "            pass_mouse_events = true;\n",
       "            fig.request_resize(ui.size.width, ui.size.height);\n",
       "        },\n",
       "    });\n",
       "\n",
       "    function mouse_event_fn(event) {\n",
       "        if (pass_mouse_events)\n",
       "            return fig.mouse_event(event, event['data']);\n",
       "    }\n",
       "\n",
       "    rubberband.mousedown('button_press', mouse_event_fn);\n",
       "    rubberband.mouseup('button_release', mouse_event_fn);\n",
       "    // Throttle sequential mouse events to 1 every 20ms.\n",
       "    rubberband.mousemove('motion_notify', mouse_event_fn);\n",
       "\n",
       "    rubberband.mouseenter('figure_enter', mouse_event_fn);\n",
       "    rubberband.mouseleave('figure_leave', mouse_event_fn);\n",
       "\n",
       "    canvas_div.on(\"wheel\", function (event) {\n",
       "        event = event.originalEvent;\n",
       "        event['data'] = 'scroll'\n",
       "        if (event.deltaY < 0) {\n",
       "            event.step = 1;\n",
       "        } else {\n",
       "            event.step = -1;\n",
       "        }\n",
       "        mouse_event_fn(event);\n",
       "    });\n",
       "\n",
       "    canvas_div.append(canvas);\n",
       "    canvas_div.append(rubberband);\n",
       "\n",
       "    this.rubberband = rubberband;\n",
       "    this.rubberband_canvas = rubberband[0];\n",
       "    this.rubberband_context = rubberband[0].getContext(\"2d\");\n",
       "    this.rubberband_context.strokeStyle = \"#000000\";\n",
       "\n",
       "    this._resize_canvas = function(width, height) {\n",
       "        // Keep the size of the canvas, canvas container, and rubber band\n",
       "        // canvas in synch.\n",
       "        canvas_div.css('width', width)\n",
       "        canvas_div.css('height', height)\n",
       "\n",
       "        canvas.attr('width', width * mpl.ratio);\n",
       "        canvas.attr('height', height * mpl.ratio);\n",
       "        canvas.attr('style', 'width: ' + width + 'px; height: ' + height + 'px;');\n",
       "\n",
       "        rubberband.attr('width', width);\n",
       "        rubberband.attr('height', height);\n",
       "    }\n",
       "\n",
       "    // Set the figure to an initial 600x600px, this will subsequently be updated\n",
       "    // upon first draw.\n",
       "    this._resize_canvas(600, 600);\n",
       "\n",
       "    // Disable right mouse context menu.\n",
       "    $(this.rubberband_canvas).bind(\"contextmenu\",function(e){\n",
       "        return false;\n",
       "    });\n",
       "\n",
       "    function set_focus () {\n",
       "        canvas.focus();\n",
       "        canvas_div.focus();\n",
       "    }\n",
       "\n",
       "    window.setTimeout(set_focus, 100);\n",
       "}\n",
       "\n",
       "mpl.figure.prototype._init_toolbar = function() {\n",
       "    var fig = this;\n",
       "\n",
       "    var nav_element = $('<div/>')\n",
       "    nav_element.attr('style', 'width: 100%');\n",
       "    this.root.append(nav_element);\n",
       "\n",
       "    // Define a callback function for later on.\n",
       "    function toolbar_event(event) {\n",
       "        return fig.toolbar_button_onclick(event['data']);\n",
       "    }\n",
       "    function toolbar_mouse_event(event) {\n",
       "        return fig.toolbar_button_onmouseover(event['data']);\n",
       "    }\n",
       "\n",
       "    for(var toolbar_ind in mpl.toolbar_items) {\n",
       "        var name = mpl.toolbar_items[toolbar_ind][0];\n",
       "        var tooltip = mpl.toolbar_items[toolbar_ind][1];\n",
       "        var image = mpl.toolbar_items[toolbar_ind][2];\n",
       "        var method_name = mpl.toolbar_items[toolbar_ind][3];\n",
       "\n",
       "        if (!name) {\n",
       "            // put a spacer in here.\n",
       "            continue;\n",
       "        }\n",
       "        var button = $('<button/>');\n",
       "        button.addClass('ui-button ui-widget ui-state-default ui-corner-all ' +\n",
       "                        'ui-button-icon-only');\n",
       "        button.attr('role', 'button');\n",
       "        button.attr('aria-disabled', 'false');\n",
       "        button.click(method_name, toolbar_event);\n",
       "        button.mouseover(tooltip, toolbar_mouse_event);\n",
       "\n",
       "        var icon_img = $('<span/>');\n",
       "        icon_img.addClass('ui-button-icon-primary ui-icon');\n",
       "        icon_img.addClass(image);\n",
       "        icon_img.addClass('ui-corner-all');\n",
       "\n",
       "        var tooltip_span = $('<span/>');\n",
       "        tooltip_span.addClass('ui-button-text');\n",
       "        tooltip_span.html(tooltip);\n",
       "\n",
       "        button.append(icon_img);\n",
       "        button.append(tooltip_span);\n",
       "\n",
       "        nav_element.append(button);\n",
       "    }\n",
       "\n",
       "    var fmt_picker_span = $('<span/>');\n",
       "\n",
       "    var fmt_picker = $('<select/>');\n",
       "    fmt_picker.addClass('mpl-toolbar-option ui-widget ui-widget-content');\n",
       "    fmt_picker_span.append(fmt_picker);\n",
       "    nav_element.append(fmt_picker_span);\n",
       "    this.format_dropdown = fmt_picker[0];\n",
       "\n",
       "    for (var ind in mpl.extensions) {\n",
       "        var fmt = mpl.extensions[ind];\n",
       "        var option = $(\n",
       "            '<option/>', {selected: fmt === mpl.default_extension}).html(fmt);\n",
       "        fmt_picker.append(option)\n",
       "    }\n",
       "\n",
       "    // Add hover states to the ui-buttons\n",
       "    $( \".ui-button\" ).hover(\n",
       "        function() { $(this).addClass(\"ui-state-hover\");},\n",
       "        function() { $(this).removeClass(\"ui-state-hover\");}\n",
       "    );\n",
       "\n",
       "    var status_bar = $('<span class=\"mpl-message\"/>');\n",
       "    nav_element.append(status_bar);\n",
       "    this.message = status_bar[0];\n",
       "}\n",
       "\n",
       "mpl.figure.prototype.request_resize = function(x_pixels, y_pixels) {\n",
       "    // Request matplotlib to resize the figure. Matplotlib will then trigger a resize in the client,\n",
       "    // which will in turn request a refresh of the image.\n",
       "    this.send_message('resize', {'width': x_pixels, 'height': y_pixels});\n",
       "}\n",
       "\n",
       "mpl.figure.prototype.send_message = function(type, properties) {\n",
       "    properties['type'] = type;\n",
       "    properties['figure_id'] = this.id;\n",
       "    this.ws.send(JSON.stringify(properties));\n",
       "}\n",
       "\n",
       "mpl.figure.prototype.send_draw_message = function() {\n",
       "    if (!this.waiting) {\n",
       "        this.waiting = true;\n",
       "        this.ws.send(JSON.stringify({type: \"draw\", figure_id: this.id}));\n",
       "    }\n",
       "}\n",
       "\n",
       "\n",
       "mpl.figure.prototype.handle_save = function(fig, msg) {\n",
       "    var format_dropdown = fig.format_dropdown;\n",
       "    var format = format_dropdown.options[format_dropdown.selectedIndex].value;\n",
       "    fig.ondownload(fig, format);\n",
       "}\n",
       "\n",
       "\n",
       "mpl.figure.prototype.handle_resize = function(fig, msg) {\n",
       "    var size = msg['size'];\n",
       "    if (size[0] != fig.canvas.width || size[1] != fig.canvas.height) {\n",
       "        fig._resize_canvas(size[0], size[1]);\n",
       "        fig.send_message(\"refresh\", {});\n",
       "    };\n",
       "}\n",
       "\n",
       "mpl.figure.prototype.handle_rubberband = function(fig, msg) {\n",
       "    var x0 = msg['x0'] / mpl.ratio;\n",
       "    var y0 = (fig.canvas.height - msg['y0']) / mpl.ratio;\n",
       "    var x1 = msg['x1'] / mpl.ratio;\n",
       "    var y1 = (fig.canvas.height - msg['y1']) / mpl.ratio;\n",
       "    x0 = Math.floor(x0) + 0.5;\n",
       "    y0 = Math.floor(y0) + 0.5;\n",
       "    x1 = Math.floor(x1) + 0.5;\n",
       "    y1 = Math.floor(y1) + 0.5;\n",
       "    var min_x = Math.min(x0, x1);\n",
       "    var min_y = Math.min(y0, y1);\n",
       "    var width = Math.abs(x1 - x0);\n",
       "    var height = Math.abs(y1 - y0);\n",
       "\n",
       "    fig.rubberband_context.clearRect(\n",
       "        0, 0, fig.canvas.width, fig.canvas.height);\n",
       "\n",
       "    fig.rubberband_context.strokeRect(min_x, min_y, width, height);\n",
       "}\n",
       "\n",
       "mpl.figure.prototype.handle_figure_label = function(fig, msg) {\n",
       "    // Updates the figure title.\n",
       "    fig.header.textContent = msg['label'];\n",
       "}\n",
       "\n",
       "mpl.figure.prototype.handle_cursor = function(fig, msg) {\n",
       "    var cursor = msg['cursor'];\n",
       "    switch(cursor)\n",
       "    {\n",
       "    case 0:\n",
       "        cursor = 'pointer';\n",
       "        break;\n",
       "    case 1:\n",
       "        cursor = 'default';\n",
       "        break;\n",
       "    case 2:\n",
       "        cursor = 'crosshair';\n",
       "        break;\n",
       "    case 3:\n",
       "        cursor = 'move';\n",
       "        break;\n",
       "    }\n",
       "    fig.rubberband_canvas.style.cursor = cursor;\n",
       "}\n",
       "\n",
       "mpl.figure.prototype.handle_message = function(fig, msg) {\n",
       "    fig.message.textContent = msg['message'];\n",
       "}\n",
       "\n",
       "mpl.figure.prototype.handle_draw = function(fig, msg) {\n",
       "    // Request the server to send over a new figure.\n",
       "    fig.send_draw_message();\n",
       "}\n",
       "\n",
       "mpl.figure.prototype.handle_image_mode = function(fig, msg) {\n",
       "    fig.image_mode = msg['mode'];\n",
       "}\n",
       "\n",
       "mpl.figure.prototype.updated_canvas_event = function() {\n",
       "    // Called whenever the canvas gets updated.\n",
       "    this.send_message(\"ack\", {});\n",
       "}\n",
       "\n",
       "// A function to construct a web socket function for onmessage handling.\n",
       "// Called in the figure constructor.\n",
       "mpl.figure.prototype._make_on_message_function = function(fig) {\n",
       "    return function socket_on_message(evt) {\n",
       "        if (evt.data instanceof Blob) {\n",
       "            /* FIXME: We get \"Resource interpreted as Image but\n",
       "             * transferred with MIME type text/plain:\" errors on\n",
       "             * Chrome.  But how to set the MIME type?  It doesn't seem\n",
       "             * to be part of the websocket stream */\n",
       "            evt.data.type = \"image/png\";\n",
       "\n",
       "            /* Free the memory for the previous frames */\n",
       "            if (fig.imageObj.src) {\n",
       "                (window.URL || window.webkitURL).revokeObjectURL(\n",
       "                    fig.imageObj.src);\n",
       "            }\n",
       "\n",
       "            fig.imageObj.src = (window.URL || window.webkitURL).createObjectURL(\n",
       "                evt.data);\n",
       "            fig.updated_canvas_event();\n",
       "            fig.waiting = false;\n",
       "            return;\n",
       "        }\n",
       "        else if (typeof evt.data === 'string' && evt.data.slice(0, 21) == \"data:image/png;base64\") {\n",
       "            fig.imageObj.src = evt.data;\n",
       "            fig.updated_canvas_event();\n",
       "            fig.waiting = false;\n",
       "            return;\n",
       "        }\n",
       "\n",
       "        var msg = JSON.parse(evt.data);\n",
       "        var msg_type = msg['type'];\n",
       "\n",
       "        // Call the  \"handle_{type}\" callback, which takes\n",
       "        // the figure and JSON message as its only arguments.\n",
       "        try {\n",
       "            var callback = fig[\"handle_\" + msg_type];\n",
       "        } catch (e) {\n",
       "            console.log(\"No handler for the '\" + msg_type + \"' message type: \", msg);\n",
       "            return;\n",
       "        }\n",
       "\n",
       "        if (callback) {\n",
       "            try {\n",
       "                // console.log(\"Handling '\" + msg_type + \"' message: \", msg);\n",
       "                callback(fig, msg);\n",
       "            } catch (e) {\n",
       "                console.log(\"Exception inside the 'handler_\" + msg_type + \"' callback:\", e, e.stack, msg);\n",
       "            }\n",
       "        }\n",
       "    };\n",
       "}\n",
       "\n",
       "// from http://stackoverflow.com/questions/1114465/getting-mouse-location-in-canvas\n",
       "mpl.findpos = function(e) {\n",
       "    //this section is from http://www.quirksmode.org/js/events_properties.html\n",
       "    var targ;\n",
       "    if (!e)\n",
       "        e = window.event;\n",
       "    if (e.target)\n",
       "        targ = e.target;\n",
       "    else if (e.srcElement)\n",
       "        targ = e.srcElement;\n",
       "    if (targ.nodeType == 3) // defeat Safari bug\n",
       "        targ = targ.parentNode;\n",
       "\n",
       "    // jQuery normalizes the pageX and pageY\n",
       "    // pageX,Y are the mouse positions relative to the document\n",
       "    // offset() returns the position of the element relative to the document\n",
       "    var x = e.pageX - $(targ).offset().left;\n",
       "    var y = e.pageY - $(targ).offset().top;\n",
       "\n",
       "    return {\"x\": x, \"y\": y};\n",
       "};\n",
       "\n",
       "/*\n",
       " * return a copy of an object with only non-object keys\n",
       " * we need this to avoid circular references\n",
       " * http://stackoverflow.com/a/24161582/3208463\n",
       " */\n",
       "function simpleKeys (original) {\n",
       "  return Object.keys(original).reduce(function (obj, key) {\n",
       "    if (typeof original[key] !== 'object')\n",
       "        obj[key] = original[key]\n",
       "    return obj;\n",
       "  }, {});\n",
       "}\n",
       "\n",
       "mpl.figure.prototype.mouse_event = function(event, name) {\n",
       "    var canvas_pos = mpl.findpos(event)\n",
       "\n",
       "    if (name === 'button_press')\n",
       "    {\n",
       "        this.canvas.focus();\n",
       "        this.canvas_div.focus();\n",
       "    }\n",
       "\n",
       "    var x = canvas_pos.x * mpl.ratio;\n",
       "    var y = canvas_pos.y * mpl.ratio;\n",
       "\n",
       "    this.send_message(name, {x: x, y: y, button: event.button,\n",
       "                             step: event.step,\n",
       "                             guiEvent: simpleKeys(event)});\n",
       "\n",
       "    /* This prevents the web browser from automatically changing to\n",
       "     * the text insertion cursor when the button is pressed.  We want\n",
       "     * to control all of the cursor setting manually through the\n",
       "     * 'cursor' event from matplotlib */\n",
       "    event.preventDefault();\n",
       "    return false;\n",
       "}\n",
       "\n",
       "mpl.figure.prototype._key_event_extra = function(event, name) {\n",
       "    // Handle any extra behaviour associated with a key event\n",
       "}\n",
       "\n",
       "mpl.figure.prototype.key_event = function(event, name) {\n",
       "\n",
       "    // Prevent repeat events\n",
       "    if (name == 'key_press')\n",
       "    {\n",
       "        if (event.which === this._key)\n",
       "            return;\n",
       "        else\n",
       "            this._key = event.which;\n",
       "    }\n",
       "    if (name == 'key_release')\n",
       "        this._key = null;\n",
       "\n",
       "    var value = '';\n",
       "    if (event.ctrlKey && event.which != 17)\n",
       "        value += \"ctrl+\";\n",
       "    if (event.altKey && event.which != 18)\n",
       "        value += \"alt+\";\n",
       "    if (event.shiftKey && event.which != 16)\n",
       "        value += \"shift+\";\n",
       "\n",
       "    value += 'k';\n",
       "    value += event.which.toString();\n",
       "\n",
       "    this._key_event_extra(event, name);\n",
       "\n",
       "    this.send_message(name, {key: value,\n",
       "                             guiEvent: simpleKeys(event)});\n",
       "    return false;\n",
       "}\n",
       "\n",
       "mpl.figure.prototype.toolbar_button_onclick = function(name) {\n",
       "    if (name == 'download') {\n",
       "        this.handle_save(this, null);\n",
       "    } else {\n",
       "        this.send_message(\"toolbar_button\", {name: name});\n",
       "    }\n",
       "};\n",
       "\n",
       "mpl.figure.prototype.toolbar_button_onmouseover = function(tooltip) {\n",
       "    this.message.textContent = tooltip;\n",
       "};\n",
       "mpl.toolbar_items = [[\"Home\", \"Reset original view\", \"fa fa-home icon-home\", \"home\"], [\"Back\", \"Back to previous view\", \"fa fa-arrow-left icon-arrow-left\", \"back\"], [\"Forward\", \"Forward to next view\", \"fa fa-arrow-right icon-arrow-right\", \"forward\"], [\"\", \"\", \"\", \"\"], [\"Pan\", \"Pan axes with left mouse, zoom with right\", \"fa fa-arrows icon-move\", \"pan\"], [\"Zoom\", \"Zoom to rectangle\", \"fa fa-square-o icon-check-empty\", \"zoom\"], [\"\", \"\", \"\", \"\"], [\"Download\", \"Download plot\", \"fa fa-floppy-o icon-save\", \"download\"]];\n",
       "\n",
       "mpl.extensions = [\"eps\", \"jpeg\", \"pdf\", \"png\", \"ps\", \"raw\", \"svg\", \"tif\"];\n",
       "\n",
       "mpl.default_extension = \"png\";var comm_websocket_adapter = function(comm) {\n",
       "    // Create a \"websocket\"-like object which calls the given IPython comm\n",
       "    // object with the appropriate methods. Currently this is a non binary\n",
       "    // socket, so there is still some room for performance tuning.\n",
       "    var ws = {};\n",
       "\n",
       "    ws.close = function() {\n",
       "        comm.close()\n",
       "    };\n",
       "    ws.send = function(m) {\n",
       "        //console.log('sending', m);\n",
       "        comm.send(m);\n",
       "    };\n",
       "    // Register the callback with on_msg.\n",
       "    comm.on_msg(function(msg) {\n",
       "        //console.log('receiving', msg['content']['data'], msg);\n",
       "        // Pass the mpl event to the overridden (by mpl) onmessage function.\n",
       "        ws.onmessage(msg['content']['data'])\n",
       "    });\n",
       "    return ws;\n",
       "}\n",
       "\n",
       "mpl.mpl_figure_comm = function(comm, msg) {\n",
       "    // This is the function which gets called when the mpl process\n",
       "    // starts-up an IPython Comm through the \"matplotlib\" channel.\n",
       "\n",
       "    var id = msg.content.data.id;\n",
       "    // Get hold of the div created by the display call when the Comm\n",
       "    // socket was opened in Python.\n",
       "    var element = $(\"#\" + id);\n",
       "    var ws_proxy = comm_websocket_adapter(comm)\n",
       "\n",
       "    function ondownload(figure, format) {\n",
       "        window.open(figure.imageObj.src);\n",
       "    }\n",
       "\n",
       "    var fig = new mpl.figure(id, ws_proxy,\n",
       "                           ondownload,\n",
       "                           element.get(0));\n",
       "\n",
       "    // Call onopen now - mpl needs it, as it is assuming we've passed it a real\n",
       "    // web socket which is closed, not our websocket->open comm proxy.\n",
       "    ws_proxy.onopen();\n",
       "\n",
       "    fig.parent_element = element.get(0);\n",
       "    fig.cell_info = mpl.find_output_cell(\"<div id='\" + id + \"'></div>\");\n",
       "    if (!fig.cell_info) {\n",
       "        console.error(\"Failed to find cell for figure\", id, fig);\n",
       "        return;\n",
       "    }\n",
       "\n",
       "    var output_index = fig.cell_info[2]\n",
       "    var cell = fig.cell_info[0];\n",
       "\n",
       "};\n",
       "\n",
       "mpl.figure.prototype.handle_close = function(fig, msg) {\n",
       "    var width = fig.canvas.width/mpl.ratio\n",
       "    fig.root.unbind('remove')\n",
       "\n",
       "    // Update the output cell to use the data from the current canvas.\n",
       "    fig.push_to_output();\n",
       "    var dataURL = fig.canvas.toDataURL();\n",
       "    // Re-enable the keyboard manager in IPython - without this line, in FF,\n",
       "    // the notebook keyboard shortcuts fail.\n",
       "    IPython.keyboard_manager.enable()\n",
       "    $(fig.parent_element).html('<img src=\"' + dataURL + '\" width=\"' + width + '\">');\n",
       "    fig.close_ws(fig, msg);\n",
       "}\n",
       "\n",
       "mpl.figure.prototype.close_ws = function(fig, msg){\n",
       "    fig.send_message('closing', msg);\n",
       "    // fig.ws.close()\n",
       "}\n",
       "\n",
       "mpl.figure.prototype.push_to_output = function(remove_interactive) {\n",
       "    // Turn the data on the canvas into data in the output cell.\n",
       "    var width = this.canvas.width/mpl.ratio\n",
       "    var dataURL = this.canvas.toDataURL();\n",
       "    this.cell_info[1]['text/html'] = '<img src=\"' + dataURL + '\" width=\"' + width + '\">';\n",
       "}\n",
       "\n",
       "mpl.figure.prototype.updated_canvas_event = function() {\n",
       "    // Tell IPython that the notebook contents must change.\n",
       "    IPython.notebook.set_dirty(true);\n",
       "    this.send_message(\"ack\", {});\n",
       "    var fig = this;\n",
       "    // Wait a second, then push the new image to the DOM so\n",
       "    // that it is saved nicely (might be nice to debounce this).\n",
       "    setTimeout(function () { fig.push_to_output() }, 1000);\n",
       "}\n",
       "\n",
       "mpl.figure.prototype._init_toolbar = function() {\n",
       "    var fig = this;\n",
       "\n",
       "    var nav_element = $('<div/>')\n",
       "    nav_element.attr('style', 'width: 100%');\n",
       "    this.root.append(nav_element);\n",
       "\n",
       "    // Define a callback function for later on.\n",
       "    function toolbar_event(event) {\n",
       "        return fig.toolbar_button_onclick(event['data']);\n",
       "    }\n",
       "    function toolbar_mouse_event(event) {\n",
       "        return fig.toolbar_button_onmouseover(event['data']);\n",
       "    }\n",
       "\n",
       "    for(var toolbar_ind in mpl.toolbar_items){\n",
       "        var name = mpl.toolbar_items[toolbar_ind][0];\n",
       "        var tooltip = mpl.toolbar_items[toolbar_ind][1];\n",
       "        var image = mpl.toolbar_items[toolbar_ind][2];\n",
       "        var method_name = mpl.toolbar_items[toolbar_ind][3];\n",
       "\n",
       "        if (!name) { continue; };\n",
       "\n",
       "        var button = $('<button class=\"btn btn-default\" href=\"#\" title=\"' + name + '\"><i class=\"fa ' + image + ' fa-lg\"></i></button>');\n",
       "        button.click(method_name, toolbar_event);\n",
       "        button.mouseover(tooltip, toolbar_mouse_event);\n",
       "        nav_element.append(button);\n",
       "    }\n",
       "\n",
       "    // Add the status bar.\n",
       "    var status_bar = $('<span class=\"mpl-message\" style=\"text-align:right; float: right;\"/>');\n",
       "    nav_element.append(status_bar);\n",
       "    this.message = status_bar[0];\n",
       "\n",
       "    // Add the close button to the window.\n",
       "    var buttongrp = $('<div class=\"btn-group inline pull-right\"></div>');\n",
       "    var button = $('<button class=\"btn btn-mini btn-primary\" href=\"#\" title=\"Stop Interaction\"><i class=\"fa fa-power-off icon-remove icon-large\"></i></button>');\n",
       "    button.click(function (evt) { fig.handle_close(fig, {}); } );\n",
       "    button.mouseover('Stop Interaction', toolbar_mouse_event);\n",
       "    buttongrp.append(button);\n",
       "    var titlebar = this.root.find($('.ui-dialog-titlebar'));\n",
       "    titlebar.prepend(buttongrp);\n",
       "}\n",
       "\n",
       "mpl.figure.prototype._root_extra_style = function(el){\n",
       "    var fig = this\n",
       "    el.on(\"remove\", function(){\n",
       "\tfig.close_ws(fig, {});\n",
       "    });\n",
       "}\n",
       "\n",
       "mpl.figure.prototype._canvas_extra_style = function(el){\n",
       "    // this is important to make the div 'focusable\n",
       "    el.attr('tabindex', 0)\n",
       "    // reach out to IPython and tell the keyboard manager to turn it's self\n",
       "    // off when our div gets focus\n",
       "\n",
       "    // location in version 3\n",
       "    if (IPython.notebook.keyboard_manager) {\n",
       "        IPython.notebook.keyboard_manager.register_events(el);\n",
       "    }\n",
       "    else {\n",
       "        // location in version 2\n",
       "        IPython.keyboard_manager.register_events(el);\n",
       "    }\n",
       "\n",
       "}\n",
       "\n",
       "mpl.figure.prototype._key_event_extra = function(event, name) {\n",
       "    var manager = IPython.notebook.keyboard_manager;\n",
       "    if (!manager)\n",
       "        manager = IPython.keyboard_manager;\n",
       "\n",
       "    // Check for shift+enter\n",
       "    if (event.shiftKey && event.which == 13) {\n",
       "        this.canvas_div.blur();\n",
       "        event.shiftKey = false;\n",
       "        // Send a \"J\" for go to next cell\n",
       "        event.which = 74;\n",
       "        event.keyCode = 74;\n",
       "        manager.command_mode();\n",
       "        manager.handle_keydown(event);\n",
       "    }\n",
       "}\n",
       "\n",
       "mpl.figure.prototype.handle_save = function(fig, msg) {\n",
       "    fig.ondownload(fig, null);\n",
       "}\n",
       "\n",
       "\n",
       "mpl.find_output_cell = function(html_output) {\n",
       "    // Return the cell and output element which can be found *uniquely* in the notebook.\n",
       "    // Note - this is a bit hacky, but it is done because the \"notebook_saving.Notebook\"\n",
       "    // IPython event is triggered only after the cells have been serialised, which for\n",
       "    // our purposes (turning an active figure into a static one), is too late.\n",
       "    var cells = IPython.notebook.get_cells();\n",
       "    var ncells = cells.length;\n",
       "    for (var i=0; i<ncells; i++) {\n",
       "        var cell = cells[i];\n",
       "        if (cell.cell_type === 'code'){\n",
       "            for (var j=0; j<cell.output_area.outputs.length; j++) {\n",
       "                var data = cell.output_area.outputs[j];\n",
       "                if (data.data) {\n",
       "                    // IPython >= 3 moved mimebundle to data attribute of output\n",
       "                    data = data.data;\n",
       "                }\n",
       "                if (data['text/html'] == html_output) {\n",
       "                    return [cell, data, j];\n",
       "                }\n",
       "            }\n",
       "        }\n",
       "    }\n",
       "}\n",
       "\n",
       "// Register the function which deals with the matplotlib target/channel.\n",
       "// The kernel may be null if the page has been refreshed.\n",
       "if (IPython.notebook.kernel != null) {\n",
       "    IPython.notebook.kernel.comm_manager.register_target('matplotlib', mpl.mpl_figure_comm);\n",
       "}\n"
      ],
      "text/plain": [
       "<IPython.core.display.Javascript object>"
      ]
     },
     "metadata": {},
     "output_type": "display_data"
    },
    {
     "data": {
      "text/html": [
       "<img src=\"data:image/png;base64,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\" width=\"432\">"
      ],
      "text/plain": [
       "<IPython.core.display.HTML object>"
      ]
     },
     "metadata": {},
     "output_type": "display_data"
    },
    {
     "name": "stderr",
     "output_type": "stream",
     "text": [
      "Traceback (most recent call last):\n",
      "  File \"/home/jdavid/anaconda3/lib/python3.7/site-packages/matplotlib/cbook/__init__.py\", line 215, in process\n",
      "    func(*args, **kwargs)\n",
      "  File \"/home/jdavid/anaconda3/lib/python3.7/site-packages/matplotlib/animation.py\", line 1478, in _stop\n",
      "    self.event_source.remove_callback(self._loop_delay)\n",
      "AttributeError: 'NoneType' object has no attribute 'remove_callback'\n"
     ]
    }
   ],
   "source": [
    "%matplotlib notebook\n",
    "\n",
    "import numpy as np\n",
    "import matplotlib.pyplot as plt\n",
    "import matplotlib.animation as animation\n",
    "\n",
    "def update_line(num, data, line):\n",
    "    line.set_data(data[...,:num])\n",
    "    return line,\n",
    "\n",
    "fig1 = plt.figure()\n",
    "\n",
    "data = np.array([np.linspace(0,100000, 100000),Error])\n",
    "l, = plt.plot([], [], 'r-')\n",
    "plt.xlim(0, 200)\n",
    "plt.ylim(0, 1000)\n",
    "plt.xlabel('x')\n",
    "plt.title('Gradiente decendente')\n",
    "line_ani = animation.FuncAnimation(fig1, update_line, 200, fargs=(data, l),\n",
    "    interval=20, blit=True)"
   ]
  },
  {
   "cell_type": "markdown",
   "metadata": {},
   "source": [
    "## El aprendizaje desde un punto de vista probabilístico"
   ]
  },
  {
   "cell_type": "markdown",
   "metadata": {},
   "source": [
    "Pensemos ahora en el problema de clasificación. "
   ]
  },
  {
   "cell_type": "code",
   "execution_count": 13,
   "metadata": {},
   "outputs": [
    {
     "data": {
      "image/png": "[encoded data removed]",
      "text/plain": [
       "<Figure size 432x288 with 1 Axes>"
      ]
     },
     "metadata": {
      "needs_background": "light"
     },
     "output_type": "display_data"
    }
   ],
   "source": [
    "%matplotlib inline\n",
    "iris = datasets.load_iris()\n",
    "X, y = iris.data, iris.target\n",
    "import matplotlib.pyplot as plt\n",
    "plt.title('Problema de 3 clases', fontsize=14)\n",
    "plt.xlabel('Caracteristica 1')\n",
    "plt.ylabel('Caracteristica 2')\n",
    "plt.scatter(X[:,1], X[:,2], c=y)\n",
    "plt.show()"
   ]
  },
  {
   "cell_type": "markdown",
   "metadata": {},
   "source": [
    "El objetivo en este caso es encontrar un modelo o modelos que nos permitan decidir a qué clase pertenece una muestra. Una de las formas que podemos encontrar para solucionar el problema, es representar cada una de las clases a partir de la función de densidad de probabilidad obtenida a partir de la muestra. Cuando llegue una muestra nueva, evaluamos que probabilidad tiene de pertenecer a cada clase de acuerdo con las funciones que construimos, y la asignamos a la clase más probable."
   ]
  },
  {
   "cell_type": "markdown",
   "metadata": {},
   "source": [
    "Al igual que en el caso anterior debemos escoger un modelo, en este caso un fdp, que representará cada clase. Supongamos que escogemos un <mark>modelo</mark> de fdp Gausiana, que para el caso de una única variable está dada por:\n",
    "\n",
    "$$\n",
    "f(x)=\\mathcal{N}(x|\\mu,\\sigma^2) = \\frac{1}{(2\\pi\\sigma^2)^{1/2}}\\exp\\left\\lbrace  -\\frac{1}{2\\sigma^2} (x - \\mu)^2 \\right\\rbrace \n",
    "$$"
   ]
  },
  {
   "cell_type": "markdown",
   "metadata": {},
   "source": [
    "donde $\\mu$ es la media de la distribución y $\\sigma$ es la desviación estándar. En este caso el entrenamiento del modelo pasará por ajustar los valores de $\\mu$ y $\\sigma$, sin embargo, en múltiples ocasiones hemos tenido que calcular la media y la desviación de un conjunto de datos $\\left\\lbrace x_i \\right\\rbrace_1^N$ y hemos utilizado las fórmulas de la media y la varianza muestral dadas por:\n",
    "\n",
    "$$ \\hat{\\mu} = \\frac{1}{N}\\sum_{i=1}^{N} x_i \\;\\;\\;\\;\\; \\hat{\\sigma}^2 = \\frac{1}{N}\\sum_{i=1}^{N}(x_i - \\mu)^2  $$"
   ]
  },
  {
   "cell_type": "markdown",
   "metadata": {},
   "source": [
    "Las ecuaciones anteriores pueden ser optenidas si aplicamos el <mark>criterio</mark> de máxima verosimilitud al la función de distribución Gausiana. Asumiendo que las muestras $x_i$ son independeientes e identicamente distribuidas (i.i.d), la función de verosimilitud del conjunto completo de datos estará dada por:\n",
    "$$\n",
    "p({\\bf{x}}|\\mu,\\sigma^2) = \\prod_{i=1}^{N}\\mathcal{N}(x_i|\\mu,\\sigma^2)\n",
    "$$"
   ]
  },
  {
   "cell_type": "markdown",
   "metadata": {},
   "source": [
    "Teniendo en cuenta que el producto al lado derecho de la ecuación anterior, es un producto de valores que están en el intervalo $[0,1]$, el producto puede hacerse muy pequeño. Para evitar ese problema típicamente se usa puede usar como criterio de ajuste del modelo el logaritmo de la función de verosimilitud"
   ]
  },
  {
   "cell_type": "markdown",
   "metadata": {},
   "source": [
    "$$\n",
    "{\\mathcal L} = \\ln p({\\bf{x}}|\\mu,\\sigma^2) = -\\frac{1}{2\\sigma^2}\\sum_{i=1}^{N}(x_i-\\mu)^2 - \\frac{N}{2}\\ln \\sigma^2 - \\frac{N}{2}\\ln(2 \\pi)\n",
    "$$"
   ]
  },
  {
   "cell_type": "markdown",
   "metadata": {},
   "source": [
    "El objetivo es entonces minimizar la función anterior, se puede entonces derivar e igualar a cero:\n",
    "$$\n",
    "\\frac{{\\partial {\\mathcal L}}}{{\\partial \\mu }} = 0 \\to  - \\frac{1}{{\\sigma ^2 }}\\sum\\limits_{i = 1}^N {\\left( {x_i  - \\mu } \\right)}  = 0\n",
    "$$"
   ]
  },
  {
   "cell_type": "markdown",
   "metadata": {},
   "source": [
    "Despejando con respecto a $\\mu$ se puede obtener la ecuación de la media muestral vista antes. De igual manera se puede derivar con respecto a $\\sigma^2$ y obtener la fórmula de la varianza muestral:"
   ]
  },
  {
   "cell_type": "markdown",
   "metadata": {},
   "source": [
    "$$\n",
    "\\frac{{\\partial {\\mathcal L}}}{{\\partial \\sigma ^2 }} = 0 \\to \\sum\\limits_{i = 1}^N {\\frac{1}{{2\\sigma ^2 }} - \\frac{{\\left( {x_i  - \\mu } \\right)^2 }}{{2\\sigma ^4 }}}  = \\frac{N}{{2\\sigma ^2 }} - \\frac{1}{{2\\sigma ^4 }}\\sum\\limits_{i = 1}^N {\\left( {x_i  - \\mu } \\right)^2 }  = 0\n",
    "$$"
   ]
  },
  {
   "cell_type": "markdown",
   "metadata": {},
   "source": [
    "$$\\frac{1}{{2\\sigma ^2 }}\\left( {N - \\frac{1}{{\\sigma ^2 }}\\sum\\limits_{i = 1}^N {\\left( {x_i  - \\mu } \\right)^2 } } \\right) = 0 \\to \\hat \\sigma ^2  = \\frac{1}{N}\\sum\\limits_{i = 1}^N {\\left( {x_i  - \\mu } \\right)^2 } $$"
   ]
  },
  {
   "cell_type": "markdown",
   "metadata": {},
   "source": [
    "En este el <mark>algoritmo</mark> de solución fue simplemente derivar la función a optimizar e igualar a cero, ya que fue posible despejar los parámetros y encontrar fórmulas cerradas para su cálculo a partir del conjunto de muestras de entrenamiento. En el caso más simple, el procedimiento completo de clasificación basado en fdp Gausianas consiste en estimar una función $f_k$ por cada una de las $K$ clases a reconocer y posteriormente cuando se tenga una nueva muestra $x*$, la clase $C*$ a la cual será asignada la muestra corresponderá a:\n",
    "\n",
    "$$\n",
    "C* = \\mathop {\\arg \\max }\\limits_k f_k(x*)\n",
    "$$"
   ]
  },
  {
   "cell_type": "markdown",
   "metadata": {},
   "source": [
    "Regresemos nuevamente al problema de regresión. Una vez más supongamos que queremos modelar un conjunto de datos empleando una función polinomial de la forma:\n"
   ]
  },
  {
   "cell_type": "markdown",
   "metadata": {},
   "source": [
    "$$\n",
    "f(x,{\\bf{w}} ) = w_0 + w_1 x +  w_2 x^2 + \\cdots + w_Mx^M = \\sum_{j=0}^{M} w_j x^j\n",
    "$$"
   ]
  },
  {
   "cell_type": "markdown",
   "metadata": {},
   "source": [
    "Pensando en la incertidumbre que tenemos sobre el valor observado ${\\bf{y}} = (y_1,y_2,...,y_N)$. Consideremos que el valor de $y_i$ dado $x_i$ sigue una distribución Gausiana con media $\\mu = f(x_i, {\\bf{w}})$ y varianza $\\beta$, entonces:\n",
    "\n",
    "$$\n",
    "p(y_i|x_i,{\\bf{w}},\\beta) = \\mathcal{N}(y_i|f(x_i,{\\bf{w}}),\\beta)\n",
    "$$"
   ]
  },
  {
   "cell_type": "markdown",
   "metadata": {},
   "source": [
    "Debemos usar el conjunto de datos de entrenamiento para determinar $\\bf{w}$ y $\\beta$. Si suponemos que los datos son i.i.d. entonces podemos plantear el problema de aprendizaje a partir del criterio de máxima verosimilitud como:\n",
    "$$\n",
    "p({\\bf{y}} | {\\bf{x}}, {\\bf{w}}, \\beta) = \\prod_{i=1}^{N} \\mathcal{N}(y_i|f(x,{\\bf{w}}),\\beta)\n",
    "$$"
   ]
  },
  {
   "cell_type": "markdown",
   "metadata": {},
   "source": [
    "Usando la misma transformación logarítmica de antes obtenemos:\n",
    "$$\n",
    "\\ln p({\\bf{y}} | {\\bf{x}}, {\\bf{w}}, \\beta) = -\\frac{1}{2 \\beta}\\sum_{i=1}^{N}(y_i-f(x,{\\bf{w}}))^2 - \\frac{N}{2}\\ln \\beta - \\frac{N}{2}\\ln(2 \\pi)\n",
    "$$"
   ]
  },
  {
   "cell_type": "markdown",
   "metadata": {},
   "source": [
    "Si tenemos en cuenta que:\n",
    "<li>Maximizando con respecto a $\\bf{w}$ vemos que los dos últimos términos pueden despreciarse</li>\n",
    "<li>Si asumimos que $\\beta = 1$, no cambia en nada el valor de $\\bf{w}$</li>\n",
    "<li>Si en lugar de maximizar una función $g$ minimizamos $-g$, llegaremos al mismo resultado.</li>\n"
   ]
  },
  {
   "cell_type": "markdown",
   "metadata": {},
   "source": [
    "Llegamos a la conclusión que necesitamos minimizar:\n",
    "\n",
    "$$\n",
    "\\frac{1}{2}\\sum_{i=1}^{N}\\left( y_i - f(x_i,{\\bf{w}})\\right)^2 = E({\\bf{w}})\n",
    "$$\n",
    "\n",
    "Por consiguiente una regresión polinomial es un modelo de aprendizaje que asume un criterio de máxima verosimilitud bajo la suposición de que en los datos existe ruido con distribución Gausiana [2]. Gran parte de los métodos usados en aprendizaje de máquina pasan por la suposición de diferentes $f$, es decir, por cambiar el modelo que describe los datos observados, lo que implica también seleccionar o determinar un criterio de aprendizaje y usar o proponer un algoritmo que permita ajustar los parámetros del modelo propuesto a partir del conjunto de muestras de entrenamiento."
   ]
  },
  {
   "cell_type": "markdown",
   "metadata": {},
   "source": [
    "----------------------------------------------------------------------------------------------------------------------------------------------"
   ]
  },
  {
   "cell_type": "markdown",
   "metadata": {},
   "source": [
    "### Regresión logística"
   ]
  },
  {
   "cell_type": "markdown",
   "metadata": {},
   "source": [
    "Una forma alternativa de entender el problema de clasificación, es buscar una función que sea capaz de dividir el espacio de características y dejar los conjuntos de muestras de cada clase separados."
   ]
  },
  {
   "cell_type": "markdown",
   "metadata": {},
   "source": [
    "![alt text](./Images/Classification.png  \"ICSimilarity\")"
   ]
  },
  {
   "cell_type": "markdown",
   "metadata": {},
   "source": [
    "Cuando es posible dejar todas las muestras de una clase a un lado de la recta, y las muestras de la otra clase al otro, el problema se conoce como linealmente separable. Sin embargo eso no sucede en la gran mayoría de problemas reales. El problema de clasificación se puede entonces pensar como el problema de encontrar una función polinomial $f$ que pueda dividir los conjuntos de datos de las diferentes clases."
   ]
  },
  {
   "cell_type": "markdown",
   "metadata": {},
   "source": [
    "Si se pudiese encontrar la función dada por la línea negra en la figura anterio, la cual sería de la forma $f({\\bf{x}}) = w_1 x_1 + w_2 x_2 + w_0$, se podría utilizar como función de clasificación ya que cualquier muestra evaluada en la función obtendrá como resultado un valor positivo si se ubica a un lado y un valor negativo si se ubica al otro (los valores ubicados justo en la función obtendrían un valor de 0). Teniendo en cuenta que los valores de las etiquetas para el problema de clasificación (las variables a predecir $y_i$), solo pueden tomar dos valores ${0,1}$, entonces una forma simple de usar la función $f$ como clasificador sería asignar las muestras a la clase 1 cuando al ser evaluadas en la función $f$ obtengan una valor positivo y asignar 0 cuando suceda lo contrario."
   ]
  },
  {
   "cell_type": "markdown",
   "metadata": {},
   "source": [
    "![alt text](./Images/funcionsigno.png  \"ICSimilarity\")"
   ]
  },
  {
   "cell_type": "markdown",
   "metadata": {},
   "source": [
    "El problema con la función $sgn$ es que es discontinua y no puede ser usada como criterio de optimización para ningún algoritmo basado en gradiente. Un alternativa es utilizar alguna función que tenga una comportamiento asintótico similar pero que sea continua y derivable, por lo que podemos usar la función sigmoide dada por:\n",
    "\n",
    "$$\n",
    "g(u) = \\frac{\\exp(u)}{1 + \\exp(u)}\n",
    "$$"
   ]
  },
  {
   "cell_type": "code",
   "execution_count": 25,
   "metadata": {},
   "outputs": [
    {
     "data": {
      "image/png": "[encoded data removed]",
      "text/plain": [
       "<Figure size 432x288 with 1 Axes>"
      ]
     },
     "metadata": {
      "needs_background": "light"
     },
     "output_type": "display_data"
    }
   ],
   "source": [
    "u=np.linspace(-10,10,100)\n",
    "g = np.exp(u)/(1 + np.exp(u))\n",
    "plt.plot(u,g)\n",
    "plt.show()"
   ]
  },
  {
   "cell_type": "markdown",
   "metadata": {},
   "source": [
    "\n",
    "El método que utiliza la función sigmoidal para encontrar una frontera de separación polinomial se conoce como <b>Regresión Logística</b>. La función objetivo (criterio de entrenamiento) está dada por:\n",
    "\n",
    "$$\n",
    "J({\\bf{w}}) = \\frac{1}{N} \\sum_{i=1}^{N} -y_i \\log(g(f({\\bf{x}}))) - (1-y_i)\\log(1 - g(f({\\bf{x}})))\n",
    "$$"
   ]
  },
  {
   "cell_type": "markdown",
   "metadata": {},
   "source": [
    "Si se analiza con detenimiento, la función criterio $J$ minimiza el error de clasificación. Es necesario tener en cuenta que dicha función está definida para $y_i$ que toman valores $\\left\\lbrace 0,1 \\right\\rbrace$. La ventaja del método de regresión logística es que la función para la actualización de los pesos $\\bf{w}$ es muy similar a la función para la regresión lineal. La derivada de $J$ está dada por:\n",
    "\n",
    "$$\n",
    "\\frac{\\partial J({\\bf{w}})}{\\partial w_j} = \\frac{1}{N} \\sum_{i=1}^{N}\\left( g(f({\\bf{x}}_i,{\\bf{w}})) - y_i\\right)x_{ij}\n",
    "$$"
   ]
  },
  {
   "cell_type": "markdown",
   "metadata": {},
   "source": [
    "La única diferencia es la inclusión de la función sigmoidal $g$. Por esa razón podemos usar el mismo algoritmo con solo una pequeña modificación. "
   ]
  },
  {
   "cell_type": "code",
   "execution_count": 26,
   "metadata": {},
   "outputs": [],
   "source": [
    "def sigmoide(u):\n",
    "    return np.exp(u)/(1 + np.exp(u))"
   ]
  },
  {
   "cell_type": "code",
   "execution_count": 29,
   "metadata": {},
   "outputs": [
    {
     "name": "stderr",
     "output_type": "stream",
     "text": [
      "/anaconda3/envs/course/lib/python3.7/site-packages/ipywidgets/widgets/widget_selection.py:9: DeprecationWarning: Using or importing the ABCs from 'collections' instead of from 'collections.abc' is deprecated, and in 3.8 it will stop working\n",
      "  from collections import Mapping, Iterable\n"
     ]
    },
    {
     "data": {
      "application/vnd.jupyter.widget-view+json": {
       "model_id": "a69b8a30713646978fb7512ff959f3f3",
       "version_major": 2,
       "version_minor": 0
      },
      "text/plain": [
       "interactive(children=(Dropdown(description='MaxIter', index=4, options=(1, 10, 100, 1000, 10000), value=10000)…"
      ]
     },
     "metadata": {},
     "output_type": "display_data"
    }
   ],
   "source": [
    "%matplotlib inline\n",
    "\n",
    "def GradientSigmo(MaxIter=10000, eta = 0.001):\n",
    "    plt.clf()\n",
    "    plt.figure(figsize=(30,10))\n",
    "    plt.axis([None, None, 0, 100])\n",
    "    iris = datasets.load_iris()\n",
    "    X, y = iris.data, iris.target\n",
    "    X2 = X[:100][:,:2]\n",
    "    y2 = y[:100]\n",
    "    #Aprendizaje\n",
    "    w = np.ones(3).reshape(3, 1)\n",
    "    N = len(y2)\n",
    "    Error =np.zeros(MaxIter)\n",
    "    Xent = np.concatenate((X2,np.ones((100,1))),axis=1)\n",
    "\n",
    "    for i in range(MaxIter):\n",
    "        tem = np.dot(Xent,w)\n",
    "        tem2 = sigmoide(tem.T)-np.array(y2)\n",
    "        Error[i] = np.sum(np.abs(tem2))/N\n",
    "        tem = np.dot(Xent.T,tem2.T)\n",
    "        wsig = w - eta*tem/N\n",
    "        w = wsig\n",
    "\n",
    "\n",
    "    print(w)\n",
    "    print('Error=',Error[-1])\n",
    "    #Grafica de la frontera encontrada\n",
    "    plt.subplot(1,2,2)\n",
    "    iris = datasets.load_iris()\n",
    "    X, y = iris.data, iris.target\n",
    "    X2 = X[:100][:,:2]\n",
    "    y2 = y[:100]\n",
    "    plt.scatter(X2[:,0], X2[:,1], c=y2,cmap=\"Accent\");\n",
    "    x1 = np.linspace(4,8,20)\n",
    "    x2 = -(w[0]/w[1])*x1 - (w[2]/w[1])\n",
    "    \n",
    "    plt.plot(x1,x2)\n",
    "    plt.show()\n",
    "    print(MaxIter,eta)\n",
    "\n",
    "\n",
    "from ipywidgets import interact, interactive, fixed, interact_manual\n",
    "import ipywidgets as widgets\n",
    "interact(GradientSigmo,MaxIter=[1,10,100,1000,10000], eta=[0.0001,0.001,0.1,1,10]);    \n",
    "    \n"
   ]
  },
  {
   "cell_type": "code",
   "execution_count": 30,
   "metadata": {},
   "outputs": [
    {
     "name": "stdout",
     "output_type": "stream",
     "text": [
      "[[ 2.95178241e+00]\n",
      " [-5.16479601e+00]\n",
      " [-3.62895162e-03]]\n",
      "Error= 0.08607879878551308\n"
     ]
    },
    {
     "data": {
      "text/plain": [
       "[<matplotlib.lines.Line2D at 0x1a2336de48>]"
      ]
     },
     "execution_count": 30,
     "metadata": {},
     "output_type": "execute_result"
    },
    {
     "data": {
      "image/png": "[encoded data removed]",
      "text/plain": [
       "<Figure size 432x288 with 2 Axes>"
      ]
     },
     "metadata": {
      "needs_background": "light"
     },
     "output_type": "display_data"
    }
   ],
   "source": [
    "iris = datasets.load_iris()\n",
    "X, y = iris.data, iris.target\n",
    "X2 = X[:100][:,:2]\n",
    "y2 = y[:100]\n",
    "fig, (ax0, ax1) = plt.subplots(1,2)\n",
    "ax0.scatter(X2[:,0], X2[:,1], c=y2, cmap=\"Accent\");\n",
    "def sigmoide(u):\n",
    "    g = np.exp(u)/(1 + np.exp(u))\n",
    "    return g\n",
    "#Aprendizaje\n",
    "MaxIter = 100000\n",
    "w = np.ones(3).reshape(3, 1)\n",
    "eta = 0.001\n",
    "N = len(y2)\n",
    "Error =np.zeros(MaxIter)\n",
    "Xent = np.concatenate((X2,np.ones((100,1))),axis=1)\n",
    "\n",
    "for i in range(MaxIter):\n",
    "    tem = np.dot(Xent,w)\n",
    "    tem2 = sigmoide(tem.T)-np.array(y2)\n",
    "    Error[i] = np.sum(abs(tem2))/N\n",
    "    tem = np.dot(Xent.T,tem2.T)\n",
    "    wsig = w - eta*tem/N\n",
    "    w = wsig\n",
    "print(w)\n",
    "print('Error=',Error[-1])\n",
    "#Grafica de la frontera encontrada\n",
    "iris = datasets.load_iris()\n",
    "X, y = iris.data, iris.target\n",
    "X2 = X[:100][:,:2]\n",
    "y2 = y[:100]\n",
    "ax1.scatter(X2[:,0], X2[:,1], c=y2,cmap=\"Accent\");\n",
    "x1 = np.linspace(4,8,20)\n",
    "x2 = -(w[0]/w[1])*x1 - (w[2]/w[1])\n",
    "ax1.plot(x1,x2,'k')"
   ]
  },
  {
   "cell_type": "markdown",
   "metadata": {},
   "source": [
    "#### Bibliografy"
   ]
  },
  {
   "cell_type": "raw",
   "metadata": {},
   "source": [
    "[1] Murphy K.P., Machine Learning: A Probabilistic Perspective. The MIT Press, 2012."
   ]
  },
  {
   "cell_type": "raw",
   "metadata": {},
   "source": [
    "[2] Bishop, C.M. Pattern Recognition and Machine Learning. Springer, 2006."
   ]
  },
  {
   "cell_type": "code",
   "execution_count": null,
   "metadata": {},
   "outputs": [],
   "source": []
  }
 ],
 "metadata": {
  "kernelspec": {
   "display_name": "Python 3",
   "language": "python",
   "name": "python3"
  },
  "language_info": {
   "codemirror_mode": {
    "name": "ipython",
    "version": 3
   },
   "file_extension": ".py",
   "mimetype": "text/x-python",
   "name": "python",
   "nbconvert_exporter": "python",
   "pygments_lexer": "ipython3",
   "version": "3.7.3"
  }
 },
 "nbformat": 4,
 "nbformat_minor": 2
}
