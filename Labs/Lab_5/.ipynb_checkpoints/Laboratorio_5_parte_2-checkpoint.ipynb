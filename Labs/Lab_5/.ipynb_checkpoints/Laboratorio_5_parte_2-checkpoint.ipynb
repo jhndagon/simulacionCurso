{
 "cells": [
  {
   "cell_type": "markdown",
   "metadata": {},
   "source": [
    "# Laboratorio 5 - Parte 2\n",
    "\n",
    "### Máquinas de Vectores de Soporte\n",
    "\n",
    "### 2018-II\n",
    "\n",
    "#### Profesor: Julián D. Arias Londoño\n",
    "#### julian.ariasl@udea.edu.co"
   ]
  },
  {
   "cell_type": "markdown",
   "metadata": {},
   "source": [
    "## Guía del laboratorio\n",
    "\n",
    "En esta archivo va a encontrar tanto celdas de código cómo celdas de texto con las instrucciones para desarrollar el laboratorio.\n",
    "\n",
    "Lea atentamente las instrucciones entregadas en las celdas de texto correspondientes y proceda con la solución de las preguntas planteadas.\n",
    "\n",
    "Nota: no olvide ir ejecutando las celdas de código de arriba hacia abajo para que no tenga errores de importación de librerías o por falta de definición de variables."
   ]
  },
  {
   "cell_type": "markdown",
   "metadata": {},
   "source": [
    "#### Primer integrante: John David Gonzalez 1017204873\n",
    "#### Segundo integrante: Mateo Llano 1045025062"
   ]
  },
  {
   "cell_type": "code",
   "execution_count": 3,
   "metadata": {},
   "outputs": [],
   "source": [
    "from __future__ import division\n",
    "import numpy as np\n",
    "import math\n",
    "import matplotlib.pyplot as plt\n",
    "#Algunas advertencias que queremos evitar\n",
    "import warnings\n",
    "warnings.filterwarnings(\"always\")\n",
    "%matplotlib inline"
   ]
  },
  {
   "cell_type": "markdown",
   "metadata": {},
   "source": [
    "## Ejercicio 1\n",
    "\n",
    "En este ejercicio usaremos la regresión por vectores de soporte para resolver el problema de regresión de la base de datos AirQuality (https://archive.ics.uci.edu/ml/datasets/Air+Quality)."
   ]
  },
  {
   "cell_type": "markdown",
   "metadata": {},
   "source": [
    "La siguiente celda de código limpia la base de datos de todos sus datos faltantes y la deja lista en la variable DataBase."
   ]
  },
  {
   "cell_type": "code",
   "execution_count": 4,
   "metadata": {},
   "outputs": [
    {
     "name": "stdout",
     "output_type": "stream",
     "text": [
      "Dim de la base de datos original: (9357, 13)\n",
      "\n",
      "Hay 366 valores perdidos en la variable de salida. :(\n",
      "\n",
      "Dim de la base de datos sin las muestras con variable de salida perdido (8991, 13)\n",
      "\n",
      "Procesando imputación de valores perdidos en las características . . .\n",
      "\n",
      "Imputación finalizada.\n",
      "\n",
      "No hay valores perdidos en la base de datos. Ahora se puede procesar. La base de datos está en la variable DataBase\n"
     ]
    }
   ],
   "source": [
    "#cargamos la bd de entrenamiento\n",
    "db = np.loadtxt('BDatos/AirQuality.data',delimiter='\\t')  # Assuming tab-delimiter\n",
    "print (\"Dim de la base de datos original: \" + str(np.shape(db)))\n",
    "db = db.reshape(9357,13)\n",
    "DataBase = db\n",
    "#La base d edatos AirQuality tiene muchos valores perdidos, vamos a quitar todos esos registros de la base de datos\n",
    "#Están marcados como -200. Donde haya un valor -200 eliminaremos el registro.\n",
    "j = 0\n",
    "for i in range(0,np.size(db,0)):\n",
    "    if -200 == db[i,12]:\n",
    "        #print i\n",
    "        j+=1\n",
    "        DataBase = np.delete(DataBase,i,0)\n",
    "    \n",
    "print (\"\\nHay \" + str(j) + \" valores perdidos en la variable de salida. :(\")\n",
    "\n",
    "print (\"\\nDim de la base de datos sin las muestras con variable de salida perdido \"+ str(np.shape(DataBase)))\n",
    "\n",
    "#Ya hemos eliminado los registros con valor de la variable de salida perdido.\n",
    "\n",
    "#Ahora vamos a imputar los valores perdidos en cada una de las características\n",
    "print (\"\\nProcesando imputación de valores perdidos en las características . . .\\n\")\n",
    "\n",
    "#data = open(\"AirQuality_cleaned.data\", \"w\")\n",
    "\n",
    "for k in range(0,np.size(DataBase,0)):\n",
    "    for w in range(0,13):\n",
    "        if -200 == DataBase[k,w]:\n",
    "            DataBase[k,w] = round(np.mean(DataBase[:,w]))\n",
    "        \n",
    "    #data.write(str(DataBase[k,:]))\n",
    "\n",
    "#data.close()\n",
    "print (\"Imputación finalizada.\\n\")\n",
    "\n",
    "hay_missed_values = False\n",
    "for i in range(0,np.size(DataBase,0)):\n",
    "    if -200 in DataBase[i,:]:\n",
    "        hay_missed_values = True\n",
    "if(hay_missed_values):\n",
    "    print (\"Hay valores perdidos\")\n",
    "else:\n",
    "    print (\"No hay valores perdidos en la base de datos. Ahora se puede procesar. La base de datos está en la variable DataBase\")"
   ]
  },
  {
   "cell_type": "code",
   "execution_count": 5,
   "metadata": {},
   "outputs": [],
   "source": [
    "X = DataBase[:,0:12]\n",
    "\n",
    "Y = DataBase[:,12]"
   ]
  },
  {
   "cell_type": "markdown",
   "metadata": {},
   "source": [
    "Definimos la función"
   ]
  },
  {
   "cell_type": "code",
   "execution_count": 6,
   "metadata": {},
   "outputs": [],
   "source": [
    "#Mean Absolute Percentage Error para los problemas de regresión\n",
    "def MAPE(Y_est,Y):\n",
    "    ind = Y != 0 #Remueve los elementos que son cero en la variable deseada\n",
    "    N = np.size(Y[ind])\n",
    "    mape = np.sum(abs((Y_est[ind].reshape(N,1) - Y[ind].reshape(N,1))/(Y[ind].reshape(N,1)+np.finfo(np.float).eps)))/N\n",
    "    return mape "
   ]
  },
  {
   "cell_type": "markdown",
   "metadata": {},
   "source": [
    "Complete el código siguiente para usar la regresión por vectores de suporte usando la librería sklearn. https://scikit-learn.org/stable/modules/generated/sklearn.svm.SVR.html"
   ]
  },
  {
   "cell_type": "code",
   "execution_count": 22,
   "metadata": {},
   "outputs": [],
   "source": [
    "from sklearn.model_selection import KFold\n",
    "from sklearn import preprocessing\n",
    "from sklearn.svm import SVR\n",
    "import time\n",
    "tiempo_i = time.time()\n",
    "\n",
    "#Complete el código para crear el modelo SVM para regresión. \n",
    "#Use un kernel rbf con una malla de valores así: C en {0.1, 100} y gamma en {0.0001, 0.1}\n",
    "#clf = ...\n",
    "\n",
    "def svr(kerne, c, gamm):\n",
    "    if(gamm == 0):\n",
    "        gamm = 'auto'\n",
    "    #Implemetamos la metodología de validación cross validation con 10 folds\n",
    "    Folds = 5\n",
    "    porcentajeVectores = np.zeros(Folds)\n",
    "    Errores = np.ones(Folds)\n",
    "    j = 0\n",
    "    kf = KFold(n_splits=Folds)\n",
    "\n",
    "    for train_index, test_index in kf.split(X):\n",
    "\n",
    "        X_train, X_test = X[train_index], X[test_index]\n",
    "        y_train, y_test = Y[train_index], Y[test_index]  \n",
    "\n",
    "        #Complete el código\n",
    "        scaler = preprocessing.StandardScaler().fit(X_train)\n",
    "        X_train = scaler.transform(X_train)\n",
    "        X_test = scaler.transform(X_test)\n",
    "\n",
    "\n",
    "        # Entrenar el modelo\n",
    "        modelo = SVR(kernel=kerne, gamma=gamm, C=c).fit(X_train, y_train)\n",
    "\n",
    "\n",
    "        # Validación del modelo\n",
    "        ypred = modelo.predict(X_test)\n",
    "\n",
    "        porcentajeVectores[j] = np.sum(len(modelo.support_))/np.shape(X_train)[0]\n",
    "\n",
    "        Errores[j] = MAPE(ypred, y_test)\n",
    "        j+=1\n",
    "\n",
    "    print(\"Error de validación: \" + str(np.mean(Errores)) + \" +/- \" + str(np.std(Errores)))\n",
    "    print(\"% de vectores de soporte \" + str(np.mean(porcentajeVectores)))\n",
    "    print (\"Tiempo total de ejecución: \" + str(time.time()-tiempo_i) + \" segundos.\\n\")\n",
    "    return (np.mean(Errores), np.std(Errores), np.mean(porcentajeVectores), ypred, y_test)"
   ]
  },
  {
   "cell_type": "code",
   "execution_count": 12,
   "metadata": {},
   "outputs": [
    {
     "name": "stdout",
     "output_type": "stream",
     "text": [
      "Error de validación: 0.2259390395748797 +/- 0.11094914643434282\n",
      "% de vectores de soporte 0.21910801302774435\n",
      "Tiempo total de ejecución: 5.358948707580566 segundos.\n",
      "\n"
     ]
    },
    {
     "data": {
      "text/plain": [
       "(0.2259390395748797, 0.11094914643434282, 0.21910801302774435)"
      ]
     },
     "execution_count": 12,
     "metadata": {},
     "output_type": "execute_result"
    }
   ],
   "source": [
    "svr('rbf', 100, 1)"
   ]
  },
  {
   "cell_type": "markdown",
   "metadata": {},
   "source": [
    "## Ejercicio 2\n",
    "\n",
    "Una vez complete el código, realice las simulaciones necesarias para llenar la tabla siguiente:"
   ]
  },
  {
   "cell_type": "code",
   "execution_count": 16,
   "metadata": {},
   "outputs": [
    {
     "name": "stdout",
     "output_type": "stream",
     "text": [
      "Error de validación: 0.21532161504323985 +/- 0.06460100562932213\n",
      "% de vectores de soporte 0.3786300277723352\n",
      "Tiempo total de ejecución: 167.50365018844604 segundos.\n",
      "\n",
      "Error de validación: 0.24490897173183038 +/- 0.0962859267563447\n",
      "% de vectores de soporte 0.37665612594249104\n",
      "Tiempo total de ejecución: 170.09650659561157 segundos.\n",
      "\n",
      "Error de validación: 0.27680077418621385 +/- 0.13461740462666608\n",
      "% de vectores de soporte 0.384970000032475\n",
      "Tiempo total de ejecución: 175.80913662910461 segundos.\n",
      "\n",
      "Error de validación: 0.2869582909645992 +/- 0.15071982828475336\n",
      "% de vectores de soporte 0.38622128608226974\n",
      "Tiempo total de ejecución: 199.2406325340271 segundos.\n",
      "\n",
      "Error de validación: 0.2866052170692736 +/- 0.1500497705716069\n",
      "% de vectores de soporte 0.38633249759104876\n",
      "Tiempo total de ejecución: 367.15748500823975 segundos.\n",
      "\n",
      "Error de validación: 0.28853639336068776 +/- 0.1531772568363643\n",
      "% de vectores de soporte 0.3863047005129662\n",
      "Tiempo total de ejecución: 1989.8527204990387 segundos.\n",
      "\n",
      "Error de validación: 0.40149213855950106 +/- 0.20620107233468235\n",
      "% de vectores de soporte 0.7470254652163836\n",
      "Tiempo total de ejecución: 2000.7869803905487 segundos.\n",
      "\n",
      "Error de validación: 0.3285171161868212 +/- 0.14022405087833348\n",
      "% de vectores de soporte 0.642560272493326\n",
      "Tiempo total de ejecución: 2010.0284469127655 segundos.\n",
      "\n",
      "Error de validación: 0.4905252936086666 +/- 0.28594350839964744\n",
      "% de vectores de soporte 0.769381251732968\n",
      "Tiempo total de ejecución: 2021.1031391620636 segundos.\n",
      "\n",
      "Error de validación: 0.1830244451805043 +/- 0.0380779512969904\n",
      "% de vectores de soporte 0.4433882697412993\n",
      "Tiempo total de ejecución: 2027.7091472148895 segundos.\n",
      "\n",
      "Error de validación: 0.1792828703516775 +/- 0.05056250778672696\n",
      "% de vectores de soporte 0.2780009478069072\n",
      "Tiempo total de ejecución: 2031.8320786952972 segundos.\n",
      "\n",
      "Error de validación: 0.3905585218583519 +/- 0.23416305674543042\n",
      "% de vectores de soporte 0.5615628615263233\n",
      "Tiempo total de ejecución: 2040.1448793411255 segundos.\n",
      "\n",
      "Error de validación: 0.1474991396673567 +/- 0.03821109122787157\n",
      "% de vectores de soporte 0.19049660040575228\n",
      "Tiempo total de ejecución: 2043.1813941001892 segundos.\n",
      "\n",
      "Error de validación: 0.1499473954045052 +/- 0.054459046130068585\n",
      "% de vectores de soporte 0.1517632587423164\n",
      "Tiempo total de ejecución: 2045.833503961563 segundos.\n",
      "\n",
      "Error de validación: 0.26858280368586335 +/- 0.1504053866869833\n",
      "% de vectores de soporte 0.26901942192284023\n",
      "Tiempo total de ejecución: 2050.340911626816 segundos.\n",
      "\n",
      "Error de validación: 0.20443133125267948 +/- 0.18742060480901732\n",
      "% de vectores de soporte 0.12203941014832273\n",
      "Tiempo total de ejecución: 2052.6740341186523 segundos.\n",
      "\n",
      "Error de validación: 0.19166755765933371 +/- 0.14041298551363568\n",
      "% de vectores de soporte 0.16574939530723465\n",
      "Tiempo total de ejecución: 2056.0035972595215 segundos.\n",
      "\n",
      "Error de validación: 0.23787662010514787 +/- 0.12997619659073503\n",
      "% de vectores de soporte 0.21668909892156618\n",
      "Tiempo total de ejecución: 2060.2713911533356 segundos.\n",
      "\n",
      "Error de validación: 0.5590061928758729 +/- 0.9123220758887024\n",
      "% de vectores de soporte 0.16377644839787536\n",
      "Tiempo total de ejecución: 2064.6428802013397 segundos.\n",
      "\n",
      "Error de validación: 0.18029619223187465 +/- 0.1709242151764691\n",
      "% de vectores de soporte 0.10440963336156599\n",
      "Tiempo total de ejecución: 2069.096465110779 segundos.\n",
      "\n",
      "Error de validación: 0.22261295327352126 +/- 0.1082996443994473\n",
      "% de vectores de soporte 0.2132966955730505\n",
      "Tiempo total de ejecución: 2073.7705709934235 segundos.\n",
      "\n",
      "Error de validación: 0.6903611071317131 +/- 1.2096633519402977\n",
      "% de vectores de soporte 0.10210253387184147\n",
      "Tiempo total de ejecución: 2083.284913778305 segundos.\n",
      "\n",
      "Error de validación: 0.2141462631423802 +/- 0.20358091596387595\n",
      "% de vectores de soporte 0.10460419744384411\n",
      "Tiempo total de ejecución: 2095.849966287613 segundos.\n",
      "\n",
      "Error de validación: 0.2259390395748797 +/- 0.11094914643434282\n",
      "% de vectores de soporte 0.21910801302774435\n",
      "Tiempo total de ejecución: 2101.6575825214386 segundos.\n",
      "\n"
     ]
    },
    {
     "name": "stderr",
     "output_type": "stream",
     "text": [
      "/home/jdavid/anaconda3/lib/python3.7/site-packages/qgrid/grid.py:827: DeprecationWarning: QgridWidget._df_changed is deprecated in traitlets 4.1: use @observe and @unobserve instead.\n",
      "  def _df_changed(self):\n"
     ]
    },
    {
     "data": {
      "application/vnd.jupyter.widget-view+json": {
       "model_id": "3d9c10bdd78f4c30a9a3051af084432e",
       "version_major": 2,
       "version_minor": 0
      },
      "text/plain": [
       "QgridWidget(grid_options={'fullWidthRows': True, 'syncColumnCellResize': True, 'forceFitColumns': True, 'defau…"
      ]
     },
     "metadata": {},
     "output_type": "display_data"
    }
   ],
   "source": [
    "import pandas as pd\n",
    "import qgrid\n",
    "df_types = pd.DataFrame({\n",
    "    'Kernel' : pd.Series(['linear','linear','linear','linear','linear','linear','rbf','rbf','rbf','rbf','rbf','rbf','rbf','rbf','rbf','rbf','rbf','rbf','rbf','rbf','rbf','rbf','rbf','rbf']),\n",
    "    'C' : pd.Series([0.001,0.01,0.1,1,10,100,0.001,0.001,0.001,0.01,0.01,0.01,0.1,0.1,0.1,1,1,1,10,10,10,100,100,100]),\n",
    "    'gamma' : pd.Series([0,0,0,0,0,0,0.01,0.1,1,0.01,0.1,1,0.01,0.1,1,0.01,0.1,1,0.01,0.1,1,0.01,0.1,1])})\n",
    "df_types[\"MAPE Promedio\"] = \"\"\n",
    "df_types[\"Intervalo de confianza\"] = \"\"\n",
    "df_types[\"% de Vectores de Soporte\"] = \"\"\n",
    "df_types.set_index(['Kernel','C','gamma'], inplace=True)\n",
    "df_types[\"MAPE Promedio\"][23] = \"0.2259\"\n",
    "df_types[\"Intervalo de confianza\"][23] = \"0.1109\"\n",
    "df_types[\"% de Vectores de Soporte\"][23] = \"0.2191\"\n",
    "#df_types.sort_index(inplace=True)\n",
    "j=0\n",
    "for i in df_types.index:\n",
    "    (efival, interval, porcen) = svr(i[0], i[1], i[2])\n",
    "    df_types[\"MAPE Promedio\"][j] = efival\n",
    "    df_types[\"Intervalo de confianza\"][j] = interval\n",
    "    df_types[\"% de Vectores de Soporte\"][j] = porcen\n",
    "    j+=1\n",
    "\n",
    "qgrid_widget = qgrid.show_grid(df_types, show_toolbar=False)\n",
    "qgrid_widget"
   ]
  },
  {
   "cell_type": "markdown",
   "metadata": {},
   "source": [
    "Ejecute la siguiente instrucción para dejar guardados en el notebook los resultados de las pruebas."
   ]
  },
  {
   "cell_type": "code",
   "execution_count": 18,
   "metadata": {},
   "outputs": [
    {
     "data": {
      "text/html": [
       "<div>\n",
       "<style scoped>\n",
       "    .dataframe tbody tr th:only-of-type {\n",
       "        vertical-align: middle;\n",
       "    }\n",
       "\n",
       "    .dataframe tbody tr th {\n",
       "        vertical-align: top;\n",
       "    }\n",
       "\n",
       "    .dataframe thead th {\n",
       "        text-align: right;\n",
       "    }\n",
       "</style>\n",
       "<table border=\"1\" class=\"dataframe\">\n",
       "  <thead>\n",
       "    <tr style=\"text-align: right;\">\n",
       "      <th></th>\n",
       "      <th></th>\n",
       "      <th></th>\n",
       "      <th>MAPE Promedio</th>\n",
       "      <th>Intervalo de confianza</th>\n",
       "      <th>% de Vectores de Soporte</th>\n",
       "    </tr>\n",
       "    <tr>\n",
       "      <th>Kernel</th>\n",
       "      <th>C</th>\n",
       "      <th>gamma</th>\n",
       "      <th></th>\n",
       "      <th></th>\n",
       "      <th></th>\n",
       "    </tr>\n",
       "  </thead>\n",
       "  <tbody>\n",
       "    <tr>\n",
       "      <th rowspan=\"6\" valign=\"top\">linear</th>\n",
       "      <th>0.001</th>\n",
       "      <th>0.00</th>\n",
       "      <td>0.215322</td>\n",
       "      <td>0.064601</td>\n",
       "      <td>0.37863</td>\n",
       "    </tr>\n",
       "    <tr>\n",
       "      <th>0.010</th>\n",
       "      <th>0.00</th>\n",
       "      <td>0.244909</td>\n",
       "      <td>0.0962859</td>\n",
       "      <td>0.376656</td>\n",
       "    </tr>\n",
       "    <tr>\n",
       "      <th>0.100</th>\n",
       "      <th>0.00</th>\n",
       "      <td>0.276801</td>\n",
       "      <td>0.134617</td>\n",
       "      <td>0.38497</td>\n",
       "    </tr>\n",
       "    <tr>\n",
       "      <th>1.000</th>\n",
       "      <th>0.00</th>\n",
       "      <td>0.286958</td>\n",
       "      <td>0.15072</td>\n",
       "      <td>0.386221</td>\n",
       "    </tr>\n",
       "    <tr>\n",
       "      <th>10.000</th>\n",
       "      <th>0.00</th>\n",
       "      <td>0.286605</td>\n",
       "      <td>0.15005</td>\n",
       "      <td>0.386332</td>\n",
       "    </tr>\n",
       "    <tr>\n",
       "      <th>100.000</th>\n",
       "      <th>0.00</th>\n",
       "      <td>0.288536</td>\n",
       "      <td>0.153177</td>\n",
       "      <td>0.386305</td>\n",
       "    </tr>\n",
       "    <tr>\n",
       "      <th rowspan=\"18\" valign=\"top\">rbf</th>\n",
       "      <th rowspan=\"3\" valign=\"top\">0.001</th>\n",
       "      <th>0.01</th>\n",
       "      <td>0.401492</td>\n",
       "      <td>0.206201</td>\n",
       "      <td>0.747025</td>\n",
       "    </tr>\n",
       "    <tr>\n",
       "      <th>0.10</th>\n",
       "      <td>0.328517</td>\n",
       "      <td>0.140224</td>\n",
       "      <td>0.64256</td>\n",
       "    </tr>\n",
       "    <tr>\n",
       "      <th>1.00</th>\n",
       "      <td>0.490525</td>\n",
       "      <td>0.285944</td>\n",
       "      <td>0.769381</td>\n",
       "    </tr>\n",
       "    <tr>\n",
       "      <th rowspan=\"3\" valign=\"top\">0.010</th>\n",
       "      <th>0.01</th>\n",
       "      <td>0.183024</td>\n",
       "      <td>0.038078</td>\n",
       "      <td>0.443388</td>\n",
       "    </tr>\n",
       "    <tr>\n",
       "      <th>0.10</th>\n",
       "      <td>0.179283</td>\n",
       "      <td>0.0505625</td>\n",
       "      <td>0.278001</td>\n",
       "    </tr>\n",
       "    <tr>\n",
       "      <th>1.00</th>\n",
       "      <td>0.390559</td>\n",
       "      <td>0.234163</td>\n",
       "      <td>0.561563</td>\n",
       "    </tr>\n",
       "    <tr>\n",
       "      <th rowspan=\"3\" valign=\"top\">0.100</th>\n",
       "      <th>0.01</th>\n",
       "      <td>0.147499</td>\n",
       "      <td>0.0382111</td>\n",
       "      <td>0.190497</td>\n",
       "    </tr>\n",
       "    <tr>\n",
       "      <th>0.10</th>\n",
       "      <td>0.149947</td>\n",
       "      <td>0.054459</td>\n",
       "      <td>0.151763</td>\n",
       "    </tr>\n",
       "    <tr>\n",
       "      <th>1.00</th>\n",
       "      <td>0.268583</td>\n",
       "      <td>0.150405</td>\n",
       "      <td>0.269019</td>\n",
       "    </tr>\n",
       "    <tr>\n",
       "      <th rowspan=\"3\" valign=\"top\">1.000</th>\n",
       "      <th>0.01</th>\n",
       "      <td>0.204431</td>\n",
       "      <td>0.187421</td>\n",
       "      <td>0.122039</td>\n",
       "    </tr>\n",
       "    <tr>\n",
       "      <th>0.10</th>\n",
       "      <td>0.191668</td>\n",
       "      <td>0.140413</td>\n",
       "      <td>0.165749</td>\n",
       "    </tr>\n",
       "    <tr>\n",
       "      <th>1.00</th>\n",
       "      <td>0.237877</td>\n",
       "      <td>0.129976</td>\n",
       "      <td>0.216689</td>\n",
       "    </tr>\n",
       "    <tr>\n",
       "      <th rowspan=\"3\" valign=\"top\">10.000</th>\n",
       "      <th>0.01</th>\n",
       "      <td>0.559006</td>\n",
       "      <td>0.912322</td>\n",
       "      <td>0.163776</td>\n",
       "    </tr>\n",
       "    <tr>\n",
       "      <th>0.10</th>\n",
       "      <td>0.180296</td>\n",
       "      <td>0.170924</td>\n",
       "      <td>0.10441</td>\n",
       "    </tr>\n",
       "    <tr>\n",
       "      <th>1.00</th>\n",
       "      <td>0.222613</td>\n",
       "      <td>0.1083</td>\n",
       "      <td>0.213297</td>\n",
       "    </tr>\n",
       "    <tr>\n",
       "      <th rowspan=\"3\" valign=\"top\">100.000</th>\n",
       "      <th>0.01</th>\n",
       "      <td>0.690361</td>\n",
       "      <td>1.20966</td>\n",
       "      <td>0.102103</td>\n",
       "    </tr>\n",
       "    <tr>\n",
       "      <th>0.10</th>\n",
       "      <td>0.214146</td>\n",
       "      <td>0.203581</td>\n",
       "      <td>0.104604</td>\n",
       "    </tr>\n",
       "    <tr>\n",
       "      <th>1.00</th>\n",
       "      <td>0.225939</td>\n",
       "      <td>0.110949</td>\n",
       "      <td>0.219108</td>\n",
       "    </tr>\n",
       "  </tbody>\n",
       "</table>\n",
       "</div>"
      ],
      "text/plain": [
       "                     MAPE Promedio Intervalo de confianza  \\\n",
       "Kernel C       gamma                                        \n",
       "linear 0.001   0.00       0.215322               0.064601   \n",
       "       0.010   0.00       0.244909              0.0962859   \n",
       "       0.100   0.00       0.276801               0.134617   \n",
       "       1.000   0.00       0.286958                0.15072   \n",
       "       10.000  0.00       0.286605                0.15005   \n",
       "       100.000 0.00       0.288536               0.153177   \n",
       "rbf    0.001   0.01       0.401492               0.206201   \n",
       "               0.10       0.328517               0.140224   \n",
       "               1.00       0.490525               0.285944   \n",
       "       0.010   0.01       0.183024               0.038078   \n",
       "               0.10       0.179283              0.0505625   \n",
       "               1.00       0.390559               0.234163   \n",
       "       0.100   0.01       0.147499              0.0382111   \n",
       "               0.10       0.149947               0.054459   \n",
       "               1.00       0.268583               0.150405   \n",
       "       1.000   0.01       0.204431               0.187421   \n",
       "               0.10       0.191668               0.140413   \n",
       "               1.00       0.237877               0.129976   \n",
       "       10.000  0.01       0.559006               0.912322   \n",
       "               0.10       0.180296               0.170924   \n",
       "               1.00       0.222613                 0.1083   \n",
       "       100.000 0.01       0.690361                1.20966   \n",
       "               0.10       0.214146               0.203581   \n",
       "               1.00       0.225939               0.110949   \n",
       "\n",
       "                     % de Vectores de Soporte  \n",
       "Kernel C       gamma                           \n",
       "linear 0.001   0.00                   0.37863  \n",
       "       0.010   0.00                  0.376656  \n",
       "       0.100   0.00                   0.38497  \n",
       "       1.000   0.00                  0.386221  \n",
       "       10.000  0.00                  0.386332  \n",
       "       100.000 0.00                  0.386305  \n",
       "rbf    0.001   0.01                  0.747025  \n",
       "               0.10                   0.64256  \n",
       "               1.00                  0.769381  \n",
       "       0.010   0.01                  0.443388  \n",
       "               0.10                  0.278001  \n",
       "               1.00                  0.561563  \n",
       "       0.100   0.01                  0.190497  \n",
       "               0.10                  0.151763  \n",
       "               1.00                  0.269019  \n",
       "       1.000   0.01                  0.122039  \n",
       "               0.10                  0.165749  \n",
       "               1.00                  0.216689  \n",
       "       10.000  0.01                  0.163776  \n",
       "               0.10                   0.10441  \n",
       "               1.00                  0.213297  \n",
       "       100.000 0.01                  0.102103  \n",
       "               0.10                  0.104604  \n",
       "               1.00                  0.219108  "
      ]
     },
     "execution_count": 18,
     "metadata": {},
     "output_type": "execute_result"
    }
   ],
   "source": [
    "qgrid_widget.get_changed_df()"
   ]
  },
  {
   "cell_type": "markdown",
   "metadata": {},
   "source": [
    "3.1 ¿Cuál es la finalidad de usar las funciones kernel en el modelo SVM?\n",
    "\n",
    "R/: Las funciónes kernel son usadas para asignar al conjunto de datos original a un espacio dimensional superior con fin de convertirlo a un conjunto de datos lineal. \n"
   ]
  },
  {
   "cell_type": "markdown",
   "metadata": {},
   "source": [
    "\n",
    "3.2 ¿En este caso el porcentaje de vectores de soporte provee una información similar que en el problema de clasificación? Explique su respuesta.\n",
    "\n",
    "R/: Si proveen información similar aunque para el caso de regresión se requiere una mayor cantidad de vectores de soporte ya que se requiere hacer una mejor generalización de los datos \n",
    "    \n",
    "    "
   ]
  },
  {
   "cell_type": "markdown",
   "metadata": {},
   "source": [
    "3.3 Realice una gráfica de las salidas reales vs las predicciones del modelo SVM, para evaluar visualmente el desempeño del mismo. Esto solo para la configuración en la cuál se encontró el menor error."
   ]
  },
  {
   "cell_type": "code",
   "execution_count": 7,
   "metadata": {},
   "outputs": [
    {
     "data": {
      "text/plain": [
       "'Complete el c\\xc3\\xb3digo para hacer la gr\\xc3\\xa1fica aqu\\xc3\\xad'"
      ]
     },
     "execution_count": 7,
     "metadata": {},
     "output_type": "execute_result"
    }
   ],
   "source": [
    "'''Complete el código para hacer la gráfica aquí'''"
   ]
  },
  {
   "cell_type": "code",
   "execution_count": 25,
   "metadata": {},
   "outputs": [
    {
     "name": "stdout",
     "output_type": "stream",
     "text": [
      "Error de validación: 0.21195028892933138 +/- 0.09351588272226319\n",
      "% de vectores de soporte 0.43757709533137434\n",
      "Tiempo total de ejecución: 90.86162805557251 segundos.\n",
      "\n"
     ]
    }
   ],
   "source": [
    "(algo,algo1,algo2,ypred, ytest) = svr('rbf', 0.1, 0.001)"
   ]
  },
  {
   "cell_type": "code",
   "execution_count": 28,
   "metadata": {},
   "outputs": [
    {
     "data": {
      "image/png": "[encoded data removed]",
      "text/plain": [
       "<Figure size 432x288 with 1 Axes>"
      ]
     },
     "metadata": {
      "needs_background": "light"
     },
     "output_type": "display_data"
    }
   ],
   "source": [
    "plt.plot(ytest)\n",
    "plt.plot(ypred)\n",
    "plt.title('Modelo SVR')\n",
    "plt.legend(['Real', 'Predicho'])\n",
    "plt.show()"
   ]
  },
  {
   "cell_type": "code",
   "execution_count": null,
   "metadata": {},
   "outputs": [],
   "source": []
  }
 ],
 "metadata": {
  "kernelspec": {
   "display_name": "Python 3",
   "language": "python",
   "name": "python3"
  },
  "language_info": {
   "codemirror_mode": {
    "name": "ipython",
    "version": 3
   },
   "file_extension": ".py",
   "mimetype": "text/x-python",
   "name": "python",
   "nbconvert_exporter": "python",
   "pygments_lexer": "ipython3",
   "version": "3.7.3"
  }
 },
 "nbformat": 4,
 "nbformat_minor": 2
}
