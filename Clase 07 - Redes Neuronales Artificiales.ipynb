{
 "cells": [
  {
   "cell_type": "markdown",
   "metadata": {},
   "source": [
    "# Redes Neuronales Artificiales"
   ]
  },
  {
   "cell_type": "markdown",
   "metadata": {},
   "source": [
    "### Julián D. Arias Londoño\n",
    "\n",
    "Profesor Asociado  \n",
    "Departamento de Ingeniería de Sistemas  \n",
    "Universidad de Antioquia, Medellín, Colombia  \n",
    "julian.ariasl@udea.edu.co"
   ]
  },
  {
   "cell_type": "markdown",
   "metadata": {},
   "source": [
    "Una de las principales razones que inspiró la aparición de las redes neuronales artificiales (en inglés Artificial Neural Networks - ANN), es el hecho de que las tareas cognitivas complejas realizadas por el ser humano, requieren un nivel de paralelismo el cual es llevado a cabo a través de una compleja red de neuronas interconectadas."
   ]
  },
  {
   "cell_type": "markdown",
   "metadata": {},
   "source": [
    "![alt text](./Images/NN.png \"Neuronas\")"
   ]
  },
  {
   "cell_type": "markdown",
   "metadata": {},
   "source": [
    "Algunas estadísticas interesantes que nos ayudan a entender el poder de la red de neuronas en el ser humano:\n",
    "<li>Se estima que el cerebro humano contiene una densa red de neuronas interconectadas de alrededor de $10^{11}$ neuronas.  </li>\n",
    "<li>Cada neurona se conecta en promedio con otras $10^{4}$ neuronas.</li>\n",
    "<li>La actividad de las neuronas es típicamente exitada o inhibida a través de las conexiones con otras neuronas.</li>\n",
    "<li>La velocidad de cambio de estado de una neurona en el mejor de los casos es del orden de $10^{−3}$ seg. Comparado con los computadores actuales es estramadamente lento. Sin embargo los humanos pueden tomar decisiones sorprendentemente complejas en muy poco tiempo. Por ejemplo Ud requiere aproximadamente $10^{−1}$ segs reconocer visualmente a su madre.</li>"
   ]
  },
  {
   "cell_type": "markdown",
   "metadata": {},
   "source": [
    "## El perceptrón"
   ]
  },
  {
   "cell_type": "markdown",
   "metadata": {},
   "source": [
    "Uno de los tipos más usados de RNA está basado en una unidad llamada Perceptrón. Un perceptrón toma un vector de valores reales como entrada, calcula una combinación lineal de dichas entradas y produce una salida 1 si el resultado es mayor a algún umbral y -1 en otro caso."
   ]
  },
  {
   "cell_type": "markdown",
   "metadata": {},
   "source": [
    "![alt text](./Images/Perceptron01.jpg \"Neuronas\")"
   ]
  },
  {
   "cell_type": "markdown",
   "metadata": {},
   "source": [
    "Si observamos con detenimiento, el perceptrón es equivalente a la regresión logística vista en las primeras clases del curso. El umbral que determina si la salida es 1 o -1 es igual al negativo del término independiente en la regresión logística. Formalmente, dada una muestra ${\\bf{x}} =  \\left\\lbrace x_1, x_2,..., x_d \\right\\rbrace \\;\\;$,              la salida $O({\\bf{x}}) = O(x_1,x_2,...,x_d) \\;\\;\\;\\;\\;$     computada por el perceptrón es:"
   ]
  },
  {
   "cell_type": "markdown",
   "metadata": {},
   "source": [
    "$$O(x_1,x_2,...,x_d) = \\left\\{\n",
    "                \\begin{array}{ll}\n",
    "                  1\\;\\;\\;{\\rm{si}}\\;\\;\\;w_0  + w_1 x_1  + w_2 x_2  +  \\cdots  + w_d x_d  > 0\\\\\n",
    "                  - 1\\;\\;{\\rm{\\text{en otro caso}}}\n",
    "                \\end{array}\n",
    "              \\right. $$"
   ]
  },
  {
   "cell_type": "markdown",
   "metadata": {},
   "source": [
    "donde $w_i$ es una constante real o peso que determina la contribución de la entrada $x_i$ a la salida del perceptrón.\n",
    "<b>Note</b> que $−w_ 0$ es el umbral que la combinación sopesada de entradas $w_1x_1 + w_2x_2 + \\cdots + w_d x_d \\;\\;\\;\\;$ debe sobrepasar para que la salida del perceptrón sea 1."
   ]
  },
  {
   "cell_type": "markdown",
   "metadata": {},
   "source": [
    "Una forma alternativa de pensar el perceptrón, y que para nosotros es familiar, es asumir que existe una entrada adicional con valor constante 1, $x_0 = 1$, de tal forma que la inecuación anterior se puede escribir como:"
   ]
  },
  {
   "cell_type": "markdown",
   "metadata": {},
   "source": [
    "$$\\sum_{i=0}^{d} w_ix_i > 0$$"
   ]
  },
  {
   "cell_type": "markdown",
   "metadata": {},
   "source": [
    "o en forma matricial, simplemente ${\\bf{w}}^T{\\bf{x}} > 0$. La determinación del valor a la salida del perceptrón se representa normalmente como la función signo (<i>sgn</i>), entonces la función de salida del perceptrón se puede reescribir como:"
   ]
  },
  {
   "cell_type": "markdown",
   "metadata": {},
   "source": [
    "$$O({\\bf{x}}) = sgn({\\bf{w}}^T{\\bf{x}})$$"
   ]
  },
  {
   "cell_type": "markdown",
   "metadata": {},
   "source": [
    "donde"
   ]
  },
  {
   "cell_type": "markdown",
   "metadata": {},
   "source": [
    "$$sgn(u) = \\left\\{\n",
    "                \\begin{array}{ll}\n",
    "                  1\\;\\;\\;{\\rm{si}}\\;\\;\\;u  > 0\\\\\n",
    "                  - 1\\;\\;{\\rm{\\text{en otro caso}}}\n",
    "                \\end{array}\n",
    "              \\right. $$\n"
   ]
  },
  {
   "cell_type": "markdown",
   "metadata": {},
   "source": [
    "El perceptrón puede se visto como la representación de una superficie de decisión en el espacio $d$-dimensional en el cual se ubican las muestras. El perceptrón asigna valores 1 para las muestras (puntos) que se ubican a un lado del hiperplano y −1 para las que se ubican al otro lado."
   ]
  },
  {
   "cell_type": "markdown",
   "metadata": {},
   "source": [
    "![alt text](./Images/Perceptron2.png \"Neuronas\")"
   ]
  },
  {
   "cell_type": "markdown",
   "metadata": {},
   "source": [
    "## Entrenamiento del perceptrón"
   ]
  },
  {
   "cell_type": "markdown",
   "metadata": {},
   "source": [
    "Una forma de entrenar un vector de pesos es comenzar con pesos aleatorios, aplicar iterativamente el perceptrón a cada muestra de entrenamiento modificando los pesos cada vez que una muestra sea mal clasificada y repitiendo el procedimiento tantas veces como sea posible hasta que todas las muestras sean bien clasificadas. Es decir aplicar la regla:"
   ]
  },
  {
   "cell_type": "markdown",
   "metadata": {},
   "source": [
    "$$w_i \\leftarrow w_i + \\Delta w_i$$"
   ]
  },
  {
   "cell_type": "markdown",
   "metadata": {},
   "source": [
    "donde"
   ]
  },
  {
   "cell_type": "markdown",
   "metadata": {},
   "source": [
    "$$\\Delta w_i = \\eta (y_j - O({\\bf{x}}_j))x _{ji}$$"
   ]
  },
  {
   "cell_type": "markdown",
   "metadata": {},
   "source": [
    "donde $y_j$ es la salida deceseada para la muestra ${\\bf{x}}_j$. Sin embargo este procedimiento solo funciona cuando las muestras son linealmente separales."
   ]
  },
  {
   "cell_type": "markdown",
   "metadata": {},
   "source": [
    "Una forma alternativa que puede ser utilizada aún cuando las muestras no sean linealmente separables, es definir una medida de error e intentar minizarla a través de una regla de gradiente. Es decir, si asumimos:"
   ]
  },
  {
   "cell_type": "markdown",
   "metadata": {},
   "source": [
    "$$E = \\frac{1}{N}\\sum_{j=1}^{N} (y_j - O({\\bf{x}}_j))^2$$"
   ]
  },
  {
   "cell_type": "markdown",
   "metadata": {},
   "source": [
    "podemos utilizar la regla del gradiente descedente para encontrar el conjunto de pesos que hagan el error mínimo (no tiene que ser cero). Esta definición ya fue estudiada cuando vimos el modelo de regresión logística. El único inconveniente es que la salida del percetrón depende de la función <i>sgn</i> y la regla del gradiente necesita calcular la derivada. Sin embargo podemos asumir que si ${\\bf{w}}^T{\\bf{x}}\\;\\;$ tiende a 1 (o −1 según sea del caso), la aplicación de la función sgn obtendrá por consiguiente un buen resultado."
   ]
  },
  {
   "cell_type": "markdown",
   "metadata": {},
   "source": [
    "Consideremos ahora el tipo de problemas que podremos resolver utilizando un solo perceptron."
   ]
  },
  {
   "cell_type": "markdown",
   "metadata": {},
   "source": [
    "![alt text](./Images/ORANDXOR.png \"ORANDXOR\")"
   ]
  },
  {
   "cell_type": "markdown",
   "metadata": {},
   "source": [
    "La gráfica anterior nos muestra 3 problemas de clasifiación haciendo una analogía a las funciones Booleanas OR, AND y XOR. Es posible observar que los dos primeros problemas de clasificación se pueden resolver a partir de una frontera de decisión lineal, sin embargo, en la última gráfica no es posible separa las círculos negros de los círculos blancos utilizando únicamente una función lineal."
   ]
  },
  {
   "cell_type": "markdown",
   "metadata": {},
   "source": [
    "Como sabemos, la función XOR se puede construir a partir de funciones AND y funciones OR. De la misma forma podemos resolver el problema de la gráfica 3 utilizando la combinación de dos fronteras de decisión lineales:"
   ]
  },
  {
   "cell_type": "markdown",
   "metadata": {},
   "source": [
    "![alt text](./Images/XOR.png \"XOR\")"
   ]
  },
  {
   "cell_type": "markdown",
   "metadata": {},
   "source": [
    "Si utilizamos la combinación de perceptrones mostrada en la figura, podremos obtener una salida del modelo $a=1\\;\\;$ para la zona sombreada y una salida $a= 0\\;\\;$ para el resto del espacio, obteniendo de esa manera una clasificación perfecta. La red de perceptrones interconectados de la figura anterior coresponde entonces a una <b>Red Neuronal Artificial</b>, en la que cada neurona es un perceptrón y la combinación de los perceptrones, que son modelos simples, permitió la solución de un problema más complejo."
   ]
  },
  {
   "cell_type": "markdown",
   "metadata": {},
   "source": [
    "El problema que surge en este momento, es que el algoritmo de entrenamiento que fue descrito para un único perceptrón no puede ser aplicado en este caso, debido a que ahora en la salida de toda la red intervienen varios perceptrones, razón por la cual es necesario aplicar la función <i>sgn</i> antes de poder obtener la salida final de la red y por consiguiente el método de gradiente no puede ser aplicado porque la función de salida de la red nuevamente es NO derivable."
   ]
  },
  {
   "cell_type": "markdown",
   "metadata": {},
   "source": [
    "Para poder resolver el problema, debemos entonces encontrar una función equivalente a la función <i>sgn</i>, pero que pueda ser derivable para poder usar el error cuadrático medio como criterio de entrenamiento. De manera similar al a regresión logística, una solución es usar la función sigmoide:"
   ]
  },
  {
   "cell_type": "markdown",
   "metadata": {},
   "source": [
    "$$\n",
    "f(u) = \\frac{\\exp(u)}{1 + \\exp(u)}\n",
    "$$"
   ]
  },
  {
   "cell_type": "code",
   "execution_count": 11,
   "metadata": {},
   "outputs": [
    {
     "data": {
      "text/plain": [
       "[<matplotlib.lines.Line2D at 0x3134710>]"
      ]
     },
     "execution_count": 11,
     "metadata": {},
     "output_type": "execute_result"
    },
    {
     "data": {
      "image/png": "[encoded data removed]"
     },
     "metadata": {},
     "output_type": "display_data"
    }
   ],
   "source": [
    "u=linspace(-10,10,100)\n",
    "g = np.exp(u)/(1 + exp(u))\n",
    "plt.plot(u,g)"
   ]
  },
  {
   "cell_type": "markdown",
   "metadata": {},
   "source": [
    "La función sigmoide es derivable: $$\\frac{\\partial f(u)}{\\partial w_i} = f(u)(1-f(u))\\frac{\\partial u}{\\partial w_i}$$."
   ]
  },
  {
   "cell_type": "markdown",
   "metadata": {},
   "source": [
    "También es posible usar la función tangente hiperbólica:"
   ]
  },
  {
   "cell_type": "markdown",
   "metadata": {},
   "source": [
    "$$f(u) = \\frac{\\exp(u) - \\exp(-u)}{\\exp(u) + \\exp(-u)}$$"
   ]
  },
  {
   "cell_type": "code",
   "execution_count": 12,
   "metadata": {},
   "outputs": [
    {
     "data": {
      "text/plain": [
       "[<matplotlib.lines.Line2D at 0x33d3b90>]"
      ]
     },
     "execution_count": 12,
     "metadata": {},
     "output_type": "execute_result"
    },
    {
     "data": {
      "image/png": "[encoded data removed]"
     },
     "metadata": {},
     "output_type": "display_data"
    }
   ],
   "source": [
    "g = (np.exp(u) - np.exp(-u))/(np.exp(u) + np.exp(-u))\n",
    "plt.plot(u,g)"
   ]
  },
  {
   "cell_type": "markdown",
   "metadata": {},
   "source": [
    "Si se observa con detenimiento veremos que el rango de valores que toma la función sigmoide está en el intervalo $[0,1]$, mientras que la tangente hiperbólica está entre $[-1,1]\\;$. A las funciones de salida de los perceptrones se les conoce como <b> funciones de activación</b>."
   ]
  },
  {
   "cell_type": "markdown",
   "metadata": {},
   "source": [
    "Utilizar funciones de activación nolineales, también permite que las fronteras de decisión no estén restringidas a rectas, permitiendo la definición de fronteras cada vez más complejas. Una red neuronal artificial es entonces un modelo que utiliza varias neuronas interconectadas y que puede a partir de ellas resolver problemas complejos como el mostrado en la siguiente figura."
   ]
  },
  {
   "cell_type": "markdown",
   "metadata": {},
   "source": [
    "![alt text](./Images/RNA.png \"RNA\")"
   ]
  },
  {
   "cell_type": "markdown",
   "metadata": {},
   "source": [
    "Como podemos observar en la figura, una Red Neuronal Artificial (RNA) tiene tres tipos de capas:"
   ]
  },
  {
   "cell_type": "markdown",
   "metadata": {},
   "source": [
    "<li>La capa de entrada la cual recibe las características o variables de las muestras a ser evaluadas.  </li>\n",
    "<li>La o las capas ocultas son capas de perceptrones que permiten llevar a cabo la definición de fronteras complejas, como en el caso de la función XOR, en la cual se tenía una capa oculta con 2 perceptrones que llevaban a cabo funciones AND .</li>\n",
    "<li>La capa de salida en la que se encuentran los perceptrones que proporcionan la salida final de la red. Una RNA puede tener varias salidas, que pueden ser usadas en problemas de clasificación multi-clase, o en problemas de regresión en los que existen varias variables a predecir.</li>"
   ]
  },
  {
   "cell_type": "markdown",
   "metadata": {},
   "source": [
    "----------------------------------------------------------------------------------------------------------------------------------------------"
   ]
  },
  {
   "cell_type": "markdown",
   "metadata": {},
   "source": [
    "### Algoritmo Backpropagation"
   ]
  },
  {
   "cell_type": "markdown",
   "metadata": {},
   "source": [
    "El algoritmo Backpropagation ajusta (aprende) los pesos de una red multicapa, dada una estructura de red con un conjunto fijo de unidades e interconexiones.\n",
    "\n",
    "El criterio de entrenamiento puede ser ajustado al tipo de problema e incluso pueden usarse diferentes criterios para problemas similares. Para explicar el principio de funcionamiento del algoritmo usaremos como criterio la minimización del error cuadrático medio entre las salidas de la red y los valores deseados (objetivos) para dichas salidas. El algoritmo utiliza un técnica de gradiente descendente para llevar a cabo el entrenamiento de la red."
   ]
  },
  {
   "cell_type": "markdown",
   "metadata": {},
   "source": [
    "La principal diferencia en el caso de redes multicapa es que la función de error, utilizada como criterio para el entrenamiento, puede tener múltiples mínimos locales a diferencia de un solo perceptrón en el cual existe un sólo mínimo. Esto significa que desafortunadamente no se puede garantizar la convergencia a un mínimo global."
   ]
  },
  {
   "cell_type": "markdown",
   "metadata": {},
   "source": [
    "Los perceptrones multicapa (<b>MultiLayer Perceptrón - MLP</b>) son por definición redes neuronales de propagación hacia adelante ya que la activación de las neuronas se hace desde la entrada (lugar donde se conectan las variables) hacia las neuronas de salida las cuales entregan la predicción deseada."
   ]
  },
  {
   "cell_type": "markdown",
   "metadata": {},
   "source": [
    "![alt text](./Images/RNA2.png \"RNA\")"
   ]
  },
  {
   "cell_type": "markdown",
   "metadata": {},
   "source": [
    "Para poder describir el algoritmo Backpropagation es necesario ponernos de acuerdo en la notación utilizada:\n",
    "\n",
    "<li> La capa de entrada tendrá tantos nodos como variables (atributos o características), que notaremos $d$.</li>\n",
    "<li> Un nodo es una entrada a la red o una salida de alguna unidad en la red.</li>\n",
    "<li> Cada nodo tendrá un sub-índice que indicará la posición del nodo en la capa y un super-índice que indicará la capa a la cual pertence el nodo. $x_{ji}$ denota la entrada a partir del nodo $i$ a la unidad $j$, y $w_{ji}^{(1)}$ denota el correspondiente peso, el cual corresponde a la capa 1.</li>\n",
    "<li> El número de neuronas o unidades en cada capa es diferente y se denotará por $M_k$, donde $k$ hace referencia a la capa.</li>"
   ]
  },
  {
   "cell_type": "markdown",
   "metadata": {},
   "source": [
    "De acuerdo a la notación anterior, en la primera capa oculta se construyen $M_1$ combinaciones lineales de las variables de entrada ${\\bf{x}}=\\{x_1,x_2,...,x_d\\;\\;\\;\\}$ de la forma:\n",
    " \n",
    "$$\n",
    " a_j = \\sum_{i=0}^{d} w_{ji}^{(1)} x_i\n",
    "$$\n",
    "  \n",
    "donde $j=1,...,M_1\\;\\;$ y el superíndice $(1)$ indica que los parámetros corresponden a la primera \"capa\" oculta de la red. Las activaciones $a_j$ luego se transforman usando una función de activación $h(\\cdot)\\;\\;$ no lineal para dar:\n",
    "  \n",
    "$$\n",
    " z_j = h(a_j)\n",
    "$$\n"
   ]
  },
  {
   "cell_type": "markdown",
   "metadata": {},
   "source": [
    "Estos valores se combinan linealmente de nuevo para dar unidades de activación en otras capas ocultas o de salida\n",
    "\n",
    "$$\n",
    "a_k = \\sum_{j=0}^{M_1} w_{kj}^{(2)} z_j\n",
    "$$\n",
    "\n",
    "donde $k=1,...,M_2\\;\\;\\;$. Si la red sólo tiene una capa oculta, $M_2\\;\\;$ será el número total de salidas."
   ]
  },
  {
   "cell_type": "markdown",
   "metadata": {},
   "source": [
    "La diferencia fundamental entre una RNA entrenada para resolver un problema de regresión o un problema de clasificación, está en la función de activación de la capa de salida:\n",
    "\n",
    "<li> Regresión: $y_k = a_k$ </li>\n",
    "<li> Clasificación: $y_k = \\sigma(a_k)$ En problemas de clasificación de más de dos clases se utiliza comúnmente la función de activación softmax. <b>Consultar en qué consiste.</b></li>"
   ]
  },
  {
   "cell_type": "markdown",
   "metadata": {},
   "source": [
    "Combinando todas estas etapas se obtiene\n",
    "\n",
    "$$\n",
    "y_k({\\bf{x}},{\\bf{w}}) = \\sigma\\left( \\sum_{j=1}^{M_1} w_{kj}^{(2)} h \\left( \\sum_{i=1}^{d} w_{ji}^{(1)} x_i + w_{j0}^{(1)} \\right) + w_{k0}^{(2)}\\right) \n",
    "$$"
   ]
  },
  {
   "cell_type": "markdown",
   "metadata": {},
   "source": [
    "En la ecuación anterior, todos los parámetros se agrupan en el vector ${\\bf{w}}$. El modelo de red neuronal es una función no lineal de un conjunto de variables de entrada $\\{x_i\\}$ a un conjunto de variables de salida $\\{y_k\\}$ controlado por el vector de parámetros ajustables  ${\\bf{w}}$."
   ]
  },
  {
   "cell_type": "markdown",
   "metadata": {},
   "source": [
    "El problema principal consiste entonces en encontrar valores adecuados para los parámetros de la red dado un conjunto de datos de entrenamiento. Es en este punto en el que necesitamos definir el algoritmo <b>Backpropagation</b>."
   ]
  },
  {
   "cell_type": "markdown",
   "metadata": {},
   "source": [
    "Como ya sabemos, la regla de actualización a partir del algoritmo de gradiente descendente está dada por:\n",
    "\n",
    "$$\n",
    "{\\bf{w}}{(\\tau + 1)} = {\\bf{w}}{(\\tau)} - \\eta \\nabla E({\\bf{w}}{(\\tau)})\n",
    "$$\n",
    "\n",
    "$\\tau$ denota la iteración del algoritmo."
   ]
  },
  {
   "cell_type": "markdown",
   "metadata": {},
   "source": [
    "La función de error está dada por:\n",
    "\n",
    "$$\n",
    "E({\\bf{w}})=\\frac{1}{N}\\sum_{n=1}^{N}E_n({\\bf{w}})\n",
    "$$\n",
    "\n",
    "Esta aproximación hace parte de las técnicas que usan todo el conjunto de entrenamiento simultánemente es decir, calculan el error como la suma de los errores individuales por cada muestra, y se conocen como métodos <mark>Batch</mark> (lote).\n",
    "\n",
    "Si por el contrario la medida de error se calcula para cada muestra de entrenamiento y posteriormente se actualizan los pesos de la red, el algoritmo se conoce como <mark>On-Line</mark> y la regla de actualización está dada por:\n",
    "\n",
    "$$\n",
    "{\\bf{w}}{(\\tau + 1)} = {\\bf{w}}{(\\tau)} - \\eta \\nabla E_n({\\bf{w}}{(\\tau)})\n",
    "$$\n",
    "\n",
    "Cuando se usa la regla de actualización on-line, se suele hablar de <i>gradiente descendente secuencial</i> o <i>gradiente descendente estocástico</i>, ya que las actualizaciones se realizan con una sola muestra a la vez, y las muestras son evaluadas de manera aleatoria por varias razones. En primer lugar para evitar que el algoritmo presente problemas de convergencia si por ejemplo estamos resolviendo un problema de clasificación y las muestras están ordenadas por clase; podría suceder que el algoritmo ajuste la frontera de decisión para reducir el error en la primera clase sacrificando muchas muestras de la segunda clase. Posteriormente cuando comience a evaluar las muestras de la segunda clase moverá la frontera para reducir el error en éstas sin tener en cuenta el error en la primera clase. De esta manera podría permanecer en un círculo vicioso que evitaría la convergencia del algoritmo.\n",
    "\n",
    "Otra razón para el uso de muestras aleatorias en el gradiente descendente estocástico, es debido al hecho de que en problemas en los que el número de muestras es muy grande, no se utilizan todas las muestras en cada época de la red neuronal, sino que se usa un subconjunto de ellas.\n",
    "\n",
    "Actualmente se usa el concepto de <b>minibatch</b> para definir un entrenamiento en el que se el error es acumulado en subconjunto de muestras y con base en él se actualizan los pesos de la red. Es por lo tanto un punto intermedio entre el entrenamiento tipo batch y el on-line."
   ]
  },
  {
   "cell_type": "markdown",
   "metadata": {},
   "source": [
    "El principal problema con el entrenamiento de una red neuronal es que para calcular el error en cada capa es necesario conocer la salida deseada, y en el caso de las capas ocultas la salida deseada es desconocida, precisamente por esa razón reciben su nombre.\n",
    "\n",
    "El algoritmo Backpropagation es entonces una forma eficiente de evaluar el gradiente de la función de error $E({\\bf{w}})$."
   ]
  },
  {
   "cell_type": "markdown",
   "metadata": {},
   "source": [
    "El algoritmo se realiza en dos etapas:\n",
    "\n",
    "<li> Primera etapa: Evaluación de las derivadas de la función de error con respecto a los pesos. </li>\n",
    "<li> Segunda etapa: Las derivadas se emplean para realizar los ajustes de los pesos. </li>"
   ]
  },
  {
   "cell_type": "markdown",
   "metadata": {},
   "source": [
    "### Primera etapa"
   ]
  },
  {
   "cell_type": "markdown",
   "metadata": {},
   "source": [
    "Lo primero que debe hacer para poder llevar a cabo el entrenamiento es presentarle a la red el vector de entrada (muestra) y calcular las activaciones de las correspondientes unidades ocultas y de salida. Este proceso se conoce como propagación hacia adelante. En general en la red hacia adelante cada unidad calcula una suma ponderada de sus entradas\n",
    "\n",
    "$$\n",
    "a_j = \\sum_i w_{ji}z_i\n",
    "$$\n",
    "\n",
    "que se transforma mediante una función de activación\n",
    "\n",
    "$$\n",
    "z_j = h(a_j)\n",
    "$$\n",
    "\n",
    "Con los valores de salida obtenidos a partir de propagar la red hacia adelante, se puede calcular el error.\n",
    "\n",
    "\n",
    "Teniendo en cuenta la función de error \n",
    "\n",
    "$$\n",
    " E({\\bf{w}})=\\sum_{n=1}^{N}E_n({\\bf{w}})\n",
    "$$\n",
    " \n",
    "la derivada de la función de error requiere resolver el problema de evaluar  $\\nabla E_n({\\bf{w}})$."
   ]
  },
  {
   "cell_type": "markdown",
   "metadata": {},
   "source": [
    "Consideremos el modelo lineal simple en el que las salidas $y_k$ son combinaciones lineales de las variables de entrada\n",
    "\n",
    "$$\n",
    "y_k=\\sum_i w_{ki}x_i\n",
    "$$\n",
    "\n",
    "con una función de error\n",
    "\n",
    "$$\n",
    "E_n = \\frac{1}{2}\\sum_k(y_{nk} - t_{nk})^2\n",
    "$$\n",
    "\n",
    "donde $y _{nk} = y_k({\\bf{x}}_n,{\\bf{w}})\\;\\;\\;$ y $t _{nk}\\;\\;\\;$ es la salida deseada. <b>Note</b> que estamos considerando un modelo que tiene $k$ salidas, razón por la cual el error de una muestra ${\\bf{x}}_n$, corresponde a la suma de los errores proporcionados por cada salida de la red para dicha muestra.  El gradiente de esta función con respecto a $w _{ji}$ está dado como: \n",
    "\n",
    "$$\n",
    "\\frac{\\partial E_n}{\\partial w_{ij}} = \\left( y_{nj} - t_{nj} \\right) x_{ni} \n",
    "$$"
   ]
  },
  {
   "cell_type": "markdown",
   "metadata": {},
   "source": [
    "que puede interpretarse como un cálculo local que incluye el producto del error $y_{nj} - t_{nj}\\;\\;\\;$ asociada a la salida del enlace $w_{ji}$ y la variable $x_{ni}$ asociada con la entrada de ese enlace."
   ]
  },
  {
   "cell_type": "markdown",
   "metadata": {},
   "source": [
    "Si se considera la evaluación de $E_n$ con respecto a un peso $w_{ji}$\n",
    "\n",
    "$$\n",
    "\\frac{\\partial E_n}{\\partial w_{ji}} = \\frac{\\partial E_n}{\\partial a_j} \\frac{\\partial a_j}{\\partial w_{ji}}  \n",
    "$$\n",
    "\n",
    "Se utiliza la notación \n",
    "\n",
    "$$\n",
    "\\delta_j = \\frac{\\partial E_n}{\\partial a_j} \n",
    "$$\n",
    "\n",
    "donde los $\\delta$'s se conocen como errores. Igualmente\n",
    "\n",
    "$$\n",
    "\\frac{\\partial a_j}{\\partial w_{ji}} = z_i \n",
    "$$\n",
    "\n",
    "Haciendo las sustituciones anteriores se obtiene\n",
    "\n",
    "$$\n",
    "\\frac{\\partial E_n}{\\partial w_{ji}} = \\delta_j z_i\n",
    "$$"
   ]
  },
  {
   "cell_type": "markdown",
   "metadata": {},
   "source": [
    "La ecuación anterior indica que la derivada requerida se obtiene multiplicando el valor de $\\delta$ de la unidad en el lado de salida del peso, por el valor de $z$ para la unidad en el lado de la entrada del peso.\n",
    "\n",
    "Como se ha visto, para las unidades de salida se tiene\n",
    "\n",
    "$$\n",
    "\\delta_k = y_k - t_k\n",
    "$$\n",
    "\n",
    "mientras que para evaluar los $\\delta$'s para los nodos ocultos, se emplea la regla de la cadena para derivadas parciales\n",
    "\n",
    "$$\n",
    "\\delta_j \\equiv \\frac{\\partial E_n}{\\partial a_j}  = \\sum_k \\frac{\\partial E_n}{\\partial a_k} \\frac{\\partial a_k}{\\partial a_j}  \n",
    "$$\n",
    "\n",
    "la cual evalúa todos los nodos $k$ a los cuales la unidad $j$ envía una conexión."
   ]
  },
  {
   "cell_type": "markdown",
   "metadata": {},
   "source": [
    "Haciendo las sustituciones adecuadas\n",
    "\n",
    "$$\n",
    "\\delta_j = \\dot{h}(a_j)\\sum_k w_{kj}\\delta_k\n",
    "$$\n",
    "\n",
    "que expresa que el valor de $\\delta$ para una unidad escondida en particular puede obtenerse propagando los $\\delta$'s hacia atrás desde unidades más altas (más cercanas a la salida) en la red. El procedimiento de propagación hacia atrás se puede resumir como:\n",
    "\n",
    "<li> Aplicar un vector de entrada ${\\bf{x}}_n$ a la red y propagarlo hacia adelante. </li>\n",
    "<li> Evaluar todos los $\\delta_k$ para las unidades de salida. </li>\n",
    "<li> Propagar los $\\delta$'s del paso anterior para obtener los $\\delta_j$ de cada nodo oculto en la red. </li>\n",
    "<li> Usar $\\partial E_n/ w_{ji} = \\delta_j z_i \\;\\;$ para evaluar las derivadas requeridas. </li>"
   ]
  },
  {
   "cell_type": "markdown",
   "metadata": {},
   "source": [
    "Para los métodos basados en entrenamiento por lotes, la derivada del error se calcula como:\n",
    "\n",
    "$$\n",
    "\\frac{\\partial E}{\\partial w_{ji}} = \\sum_n \\frac{\\partial E_n}{\\partial w_{ji}}\n",
    "$$\n",
    "\n",
    "Todo el algoritmo de entrenamiento puede ser usado para múltiples capas ocultas y múltiples salidas. Tanto en problemas de regresión como en problemas de clasificación, cuya única diferencia desde el punto de vista del entrenamiento será el cálculo de los $\\delta$'s para la capa de salida."
   ]
  },
  {
   "cell_type": "markdown",
   "metadata": {},
   "source": [
    "Ej: Uso de la librería neurolab"
   ]
  },
  {
   "cell_type": "code",
   "execution_count": 2,
   "metadata": {},
   "outputs": [
    {
     "name": "stdout",
     "output_type": "stream",
     "text": [
      "(1500, 2)\n"
     ]
    },
    {
     "data": {
      "image/png": "[encoded data removed]"
     },
     "metadata": {},
     "output_type": "display_data"
    }
   ],
   "source": [
    "import matplotlib.pyplot as plt\n",
    "from sklearn import cluster, datasets\n",
    "n_samples = 1500\n",
    "X, y = datasets.make_moons(n_samples=n_samples, noise=.05)\n",
    "print(X.shape)\n",
    "plt.title('Problema de 2 clases', fontsize=14)\n",
    "plt.xlabel('Caracteristica 1')\n",
    "plt.ylabel('Caracteristica 2')\n",
    "plt.scatter(X[:,0], X[:,1], c=y);"
   ]
  },
  {
   "cell_type": "code",
   "execution_count": 12,
   "metadata": {},
   "outputs": [
    {
     "name": "stdout",
     "output_type": "stream",
     "text": [
      "Epoch: 15; Error: 22.3563001782;\n",
      "Epoch: 30; Error: 0.010221119346;\n",
      "The goal of learning is reached\n"
     ]
    },
    {
     "data": {
      "image/png": "[encoded data removed]"
     },
     "metadata": {},
     "output_type": "display_data"
    }
   ],
   "source": [
    "import numpy as np\n",
    "import neurolab as nl\n",
    "from matplotlib.colors import ListedColormap\n",
    "# Create train samples\n",
    "input = X\n",
    "target = np.array(y)[np.newaxis]\n",
    "target = target.T\n",
    "# Create network with 2 inputs, 5 neurons in input layer and 1 in output layer\n",
    "net = nl.net.newff([[X.min(), X.max()], [y.min(), y.max()]], [5, 1],  [nl.trans.LogSig(),nl.trans.LogSig()])\n",
    "# Train process\n",
    "err = net.train(input, target, show=15)\n",
    "# Test\n",
    "cmap_light = ListedColormap(['#AAAAFF','#AAFFAA','#FFAAAA',])\n",
    "x_min, x_max = X[:, 0].min() - .5, X[:, 0].max() + .5\n",
    "y_min, y_max = X[:, 1].min() - .5, X[:, 1].max() + .5\n",
    "xx, yy = np.meshgrid(np.linspace(x_min, x_max, 100),\n",
    "                         np.linspace(y_min, y_max, 100))\n",
    "Z = np.zeros((100,100))\n",
    "for i in range(100):\n",
    "    for j in range(100):\n",
    "        #print([xx[1,i],yy[j,1]])\n",
    "        Z[i,j]=net.sim([[xx[1,i],yy[j,1]]])\n",
    "Z = np.round(Z)\n",
    "plt.title('Problema de 2 clases', fontsize=14)\n",
    "plt.xlabel('Caracteristica 1')\n",
    "plt.ylabel('Caracteristica 2')\n",
    "plt.pcolormesh(xx, yy, Z.T, cmap=cmap_light)\n",
    "plt.scatter(X[:,0], X[:,1], c=y);"
   ]
  },
  {
   "cell_type": "markdown",
   "metadata": {},
   "source": [
    "[1] Simon Haykin, Neural Networks and Learning Machines, 3ra Edición, Prentice Hall, USA, 2009."
   ]
  },
  {
   "cell_type": "code",
   "execution_count": null,
   "metadata": {},
   "outputs": [],
   "source": []
  }
 ],
 "metadata": {
  "kernelspec": {
   "display_name": "Python 3",
   "language": "python",
   "name": "python3"
  },
  "language_info": {
   "codemirror_mode": {
    "name": "ipython",
    "version": 3
   },
   "file_extension": ".py",
   "mimetype": "text/x-python",
   "name": "python",
   "nbconvert_exporter": "python",
   "pygments_lexer": "ipython3",
   "version": "3.7.3"
  }
 },
 "nbformat": 4,
 "nbformat_minor": 1
}
